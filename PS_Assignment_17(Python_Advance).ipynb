{
  "nbformat": 4,
  "nbformat_minor": 0,
  "metadata": {
    "colab": {
      "provenance": []
    },
    "kernelspec": {
      "name": "python3",
      "display_name": "Python 3"
    },
    "language_info": {
      "name": "python"
    }
  },
  "cells": [
    {
      "cell_type": "markdown",
      "source": [
        "### Python (Advance) Assignment No. 17\n",
        "\n",
        "1 Batch - Full Stack Data Science Bootcamp 2.0\n",
        "\n",
        "2 Name - **Prerit Sharma**\n",
        "\n",
        "3 Email ID - **praritsharma7@gmail.com**"
      ],
      "metadata": {
        "id": "foimIQ6rw14j"
      }
    },
    {
      "cell_type": "markdown",
      "source": [
        "\n",
        "\n",
        "---\n",
        "\n"
      ],
      "metadata": {
        "id": "h1MtkJ6Cw4xe"
      }
    },
    {
      "cell_type": "markdown",
      "source": [
        "###Q1. Explain the difference between greedy and non-greedy syntax with visual terms in as few words as possible. What is the bare minimum effort required to transform a greedy pattern into a non-greedy one? What characters or characters can you introduce or change?"
      ],
      "metadata": {
        "id": "Zg1ebxKNw5Sm"
      }
    },
    {
      "cell_type": "markdown",
      "source": [
        "###Ans. The Main difference between Greedy and Non Greedy Match Syntax is that the Greedy Match will try to match as many repetitions of the quantified pattern as possible Whereas the Non Greedy Match will try to match as few repetitions of the quantified pattern as possible so that it still can match the pattern in the given string"
      ],
      "metadata": {
        "id": "aTTx-Kv7yCqG"
      }
    },
    {
      "cell_type": "code",
      "source": [
        "import re\n",
        "print(re.findall(\"a*\", \"aaaaaa\")) # Greedy Match Synatx\n",
        "print(re.findall(\"a*?\", \"aaaaaa\")) # Non Greddy Syntax"
      ],
      "metadata": {
        "colab": {
          "base_uri": "https://localhost:8080/"
        },
        "id": "SmOHDnt9yFee",
        "outputId": "b35df9fb-c379-4377-fb04-0f79900b9534"
      },
      "execution_count": null,
      "outputs": [
        {
          "output_type": "stream",
          "name": "stdout",
          "text": [
            "['aaaaaa', '']\n",
            "['', 'a', '', 'a', '', 'a', '', 'a', '', 'a', '', 'a', '']\n"
          ]
        }
      ]
    },
    {
      "cell_type": "markdown",
      "source": [
        "\n",
        "\n",
        "---\n",
        "\n"
      ],
      "metadata": {
        "id": "gh-0JVKszyxn"
      }
    },
    {
      "cell_type": "markdown",
      "source": [
        "###Q2. When exactly does greedy versus non-greedy make a difference?  What if you&#39;re looking for a non-greedy match but the only one available is greedy?"
      ],
      "metadata": {
        "id": "ftiIgYTfzzqW"
      }
    },
    {
      "cell_type": "markdown",
      "source": [
        "###Ans.The Greedy Match will try to match as many repetitions of the quantified pattern as possible. The Non Greedy Match will try to match as few repetitions of the quantified pattern as possible. If only Non Greedy Match is available, we can use other filtering or pattern matching methods of regex and further identify the required pattern."
      ],
      "metadata": {
        "id": "Hk41CBKlz7Ko"
      }
    },
    {
      "cell_type": "markdown",
      "source": [
        "\n",
        "\n",
        "---\n",
        "\n"
      ],
      "metadata": {
        "id": "jvt1NcQ-4RlW"
      }
    },
    {
      "cell_type": "markdown",
      "source": [
        "###Q3. In a simple match of a string, which looks only for one match and does not do any replacement, is the use of a nontagged group likely to make any practical difference?"
      ],
      "metadata": {
        "id": "zXtz36DD4Sl2"
      }
    },
    {
      "cell_type": "markdown",
      "source": [
        "###Ans.In this Case, the Non-Tagged Group will not make any difference. This is shown below"
      ],
      "metadata": {
        "id": "dpckdvVa4Y-W"
      }
    },
    {
      "cell_type": "code",
      "source": [
        "import re\n",
        "phoneNumRegex = re.compile(r'\\d\\d\\d')\n",
        "num = phoneNumRegex.search('My number is 123-456-7891.')\n",
        "print(f'Phone number found -> {num.group()}') # Non Tagged group\n",
        "print(f'Phone number found -> {num.group(0)}') # Tagged Group"
      ],
      "metadata": {
        "colab": {
          "base_uri": "https://localhost:8080/"
        },
        "id": "Kuydl_n44txx",
        "outputId": "bfbcd659-ca79-4953-d84a-c6e6249afd53"
      },
      "execution_count": null,
      "outputs": [
        {
          "output_type": "stream",
          "name": "stdout",
          "text": [
            "Phone number found -> 123\n",
            "Phone number found -> 123\n"
          ]
        }
      ]
    },
    {
      "cell_type": "markdown",
      "source": [
        "\n",
        "\n",
        "---\n",
        "\n"
      ],
      "metadata": {
        "id": "KahtyC2S4ipZ"
      }
    },
    {
      "cell_type": "markdown",
      "source": [
        "###Q4. Describe a scenario in which using a nontagged category would have a significant impact on the program&#39;s outcomes."
      ],
      "metadata": {
        "id": "sCP99GkE4yG2"
      }
    },
    {
      "cell_type": "markdown",
      "source": [
        "###Ans. Here in the below Code Snippet . decimal is not tagged or captured. Hence, it will be useful in scenarios where the separator of value in a string is of no use and we need to capture only the values."
      ],
      "metadata": {
        "id": "M3AhBfK0H0On"
      }
    },
    {
      "cell_type": "code",
      "source": [
        "import re\n",
        "text='123.456'\n",
        "pattern=r'(\\d+)(?:.)(\\d+)'\n",
        "regobj=re.compile(pattern)\n",
        "matobj=regobj.search(text)\n",
        "matobj.groups()"
      ],
      "metadata": {
        "colab": {
          "base_uri": "https://localhost:8080/"
        },
        "id": "ZlW6vbzOH-n_",
        "outputId": "772562bc-d0e4-4f6e-aa42-518a605f1c1a"
      },
      "execution_count": 1,
      "outputs": [
        {
          "output_type": "execute_result",
          "data": {
            "text/plain": [
              "('123', '456')"
            ]
          },
          "metadata": {},
          "execution_count": 1
        }
      ]
    },
    {
      "cell_type": "markdown",
      "source": [
        "\n",
        "\n",
        "---\n",
        "\n"
      ],
      "metadata": {
        "id": "X6eT6ANHIDfm"
      }
    },
    {
      "cell_type": "markdown",
      "source": [
        "###Q5. Unlike a normal regex pattern, a look-ahead condition does not consume the characters it examines. Describe a situation in which this could make a difference in the results of your programme."
      ],
      "metadata": {
        "id": "dJnqE6TRIEmQ"
      }
    },
    {
      "cell_type": "markdown",
      "source": [
        "###Ans.While counting the number of multiple lines or mutiple sentences in a string, the positive look ahead makes a difference, without which we will not be able to get the correct count of lines or sentences in a string."
      ],
      "metadata": {
        "id": "cZc-FHhpINgZ"
      }
    },
    {
      "cell_type": "markdown",
      "source": [
        "\n",
        "\n",
        "---\n",
        "\n"
      ],
      "metadata": {
        "id": "-Hf-x2MeIZV0"
      }
    },
    {
      "cell_type": "markdown",
      "source": [
        "###Q6. In standard expressions, what is the difference between positive look-ahead and negative look-ahead?"
      ],
      "metadata": {
        "id": "sw-rTZniIa0t"
      }
    },
    {
      "cell_type": "markdown",
      "source": [
        "###Ans. Positive Look-ahead allows to add a condition for what follows. Negative Lookahead is similar, but it looks behind. That is, it allows to match a pattern only if there’s something before it.\n",
        "\n",
        "Syntax Positive Look-Ahead: X(?=Y) Syntax Negative Look-Ahead: X(?!Y)"
      ],
      "metadata": {
        "id": "75NMTop1IgfU"
      }
    },
    {
      "cell_type": "code",
      "source": [
        "#Positive Look Ahead\n",
        "import re\n",
        "\n",
        "s = '1 Python is about 4 feet long'\n",
        "pattern = '\\d+(?=\\s*feet)'\n",
        "\n",
        "matches = re.finditer(pattern,s)\n",
        "for match in matches:\n",
        "    print(match.group())"
      ],
      "metadata": {
        "colab": {
          "base_uri": "https://localhost:8080/"
        },
        "id": "qFsAGBnKIto8",
        "outputId": "ed5ff64e-2c18-4358-e08f-9bc84ce566fb"
      },
      "execution_count": 2,
      "outputs": [
        {
          "output_type": "stream",
          "name": "stdout",
          "text": [
            "4\n"
          ]
        }
      ]
    },
    {
      "cell_type": "code",
      "source": [
        "#Negative Look Ahead\n",
        "import re\n",
        "\n",
        "s = '1 Python is about 4 feet long'\n",
        "pattern = '\\d+(?!\\s*feet)'\n",
        "\n",
        "matches = re.finditer(pattern,s)\n",
        "for match in matches:\n",
        "    print(match.group())"
      ],
      "metadata": {
        "colab": {
          "base_uri": "https://localhost:8080/"
        },
        "id": "SAIKZvnQI49O",
        "outputId": "bfde47a3-5a26-44ef-dc53-80795ae8e7a4"
      },
      "execution_count": 3,
      "outputs": [
        {
          "output_type": "stream",
          "name": "stdout",
          "text": [
            "1\n"
          ]
        }
      ]
    },
    {
      "cell_type": "markdown",
      "source": [
        "\n",
        "\n",
        "---\n",
        "\n"
      ],
      "metadata": {
        "id": "cg90zJydI6zM"
      }
    },
    {
      "cell_type": "markdown",
      "source": [
        "###Q7. What is the benefit of referring to groups by name rather than by number in a standard expression?"
      ],
      "metadata": {
        "id": "8DfnJn_nI7_W"
      }
    },
    {
      "cell_type": "markdown",
      "source": [
        "###Ans. The advantage to named groups is that it adds readability and understandability to the code, so that you can easily see what part of a regular expression match is being referenced."
      ],
      "metadata": {
        "id": "I2uIhYwoJN7k"
      }
    },
    {
      "cell_type": "markdown",
      "source": [
        "\n",
        "\n",
        "---\n",
        "\n"
      ],
      "metadata": {
        "id": "h1qn2PNKJQvB"
      }
    },
    {
      "cell_type": "markdown",
      "source": [
        "###Q8. Can you identify repeated items within a target string using named groups, as in &quot;The cow jumped over the moon&quot;?"
      ],
      "metadata": {
        "id": "XYmVj0ToJTmk"
      }
    },
    {
      "cell_type": "markdown",
      "source": [
        "###Ans."
      ],
      "metadata": {
        "id": "xpj3od1SJbU4"
      }
    },
    {
      "cell_type": "code",
      "source": [
        "import re\n",
        "text = \"The cow jumped over the moon\"\n",
        "regobj=re.compile(r'(?P<w1>The)',re.I)\n",
        "regobj.findall(text)"
      ],
      "metadata": {
        "colab": {
          "base_uri": "https://localhost:8080/"
        },
        "id": "z61-FtyqJgaN",
        "outputId": "6c91f34e-e93e-442e-aa8c-a97c4d032d76"
      },
      "execution_count": 4,
      "outputs": [
        {
          "output_type": "execute_result",
          "data": {
            "text/plain": [
              "['The', 'the']"
            ]
          },
          "metadata": {},
          "execution_count": 4
        }
      ]
    },
    {
      "cell_type": "markdown",
      "source": [
        "\n",
        "\n",
        "---\n",
        "\n"
      ],
      "metadata": {
        "id": "dOUpOclCJjba"
      }
    },
    {
      "cell_type": "markdown",
      "source": [
        "###Q9. When parsing a string, what is at least one thing that the Scanner interface does for you that the re.findall feature does not?"
      ],
      "metadata": {
        "id": "kR7FQU1dJyl0"
      }
    },
    {
      "cell_type": "markdown",
      "source": [
        "###Ans.re.findall() module is used to search for all occurrences that match a given pattern. In contrast, re.search() will only return the first occurrence that matches the specified pattern. re.findall() will iterate over all the lines of the file and will return all non-overlapping matches of pattern in a single step."
      ],
      "metadata": {
        "id": "YsnxJ3FHJ6NA"
      }
    },
    {
      "cell_type": "markdown",
      "source": [
        "\n",
        "\n",
        "---\n",
        "\n"
      ],
      "metadata": {
        "id": "lOJx6kGOKA2M"
      }
    },
    {
      "cell_type": "markdown",
      "source": [
        "###Q10. Does a scanner object have to be named scanner?"
      ],
      "metadata": {
        "id": "pcn9pG_SKC0m"
      }
    },
    {
      "cell_type": "markdown",
      "source": [
        "###Ans. No, It may have any name. For example instead of naming Scanner object as scanner, we can name as sc"
      ],
      "metadata": {
        "id": "8Dt8rKRUKGhZ"
      }
    },
    {
      "cell_type": "markdown",
      "source": [
        "-------------------------------------------------------------------------------------------------------------------------------End-----------------------------------------------------------------------------------"
      ],
      "metadata": {
        "id": "CZ-8FIxPKNlG"
      }
    }
  ]
}