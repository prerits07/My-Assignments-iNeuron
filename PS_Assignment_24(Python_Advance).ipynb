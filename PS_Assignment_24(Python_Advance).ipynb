{
  "nbformat": 4,
  "nbformat_minor": 0,
  "metadata": {
    "colab": {
      "provenance": []
    },
    "kernelspec": {
      "name": "python3",
      "display_name": "Python 3"
    },
    "language_info": {
      "name": "python"
    }
  },
  "cells": [
    {
      "cell_type": "markdown",
      "source": [
        "### Python (Advance) Assignment No.24\n",
        "\n",
        "1 Batch - Full Stack Data Science Bootcamp 2.0\n",
        "\n",
        "2 Name - **Prerit Sharma**\n",
        "\n",
        "3 Email ID - **praritsharma7@gmail.com**"
      ],
      "metadata": {
        "id": "xzuu0c3XwQwO"
      }
    },
    {
      "cell_type": "markdown",
      "source": [
        "\n",
        "\n",
        "---\n",
        "\n"
      ],
      "metadata": {
        "id": "LPISHNSawXNm"
      }
    },
    {
      "cell_type": "markdown",
      "source": [
        "###Q1. Is it permissible to use several import statements to import the same module? What would the goal be? Can you think of a situation where it would be beneficial?"
      ],
      "metadata": {
        "id": "fv8WvsP-waLE"
      }
    },
    {
      "cell_type": "markdown",
      "source": [
        "###Ans.Yes, it is permissible to use several import statements to import the same module. It is used in case when we have to import multiple functions from same module."
      ],
      "metadata": {
        "id": "MZ6TsnggwiSv"
      }
    },
    {
      "cell_type": "markdown",
      "source": [
        "\n",
        "\n",
        "---\n",
        "\n"
      ],
      "metadata": {
        "id": "IFcDzuyCwrJ2"
      }
    },
    {
      "cell_type": "markdown",
      "source": [
        "###Q2. What are some of a module&#39;s characteristics? (Name at least one.)"
      ],
      "metadata": {
        "id": "5P6tYucdwsCv"
      }
    },
    {
      "cell_type": "markdown",
      "source": [
        "###Ans.The following are some of a module's characteristics:\n",
        "\n",
        "name : It returns the name of the module\n",
        "\n",
        "doc : It denotes the documentation string line written in a module code.\n",
        "\n",
        "file : It holds the name and path of the module file from which it is loaded\n",
        "\n",
        "dict : It returns a dictionary object of module attributes, functions and other definitions and their respective values"
      ],
      "metadata": {
        "id": "TL8fAV9nwzDD"
      }
    },
    {
      "cell_type": "markdown",
      "source": [
        "\n",
        "\n",
        "---\n",
        "\n"
      ],
      "metadata": {
        "id": "NNovGCY3zCeD"
      }
    },
    {
      "cell_type": "markdown",
      "source": [
        "###Q3. Circular importing, such as when two modules import each other, can lead to dependencies and bugs that aren&#39;t visible. How can you go about creating a program that avoids mutual importing?"
      ],
      "metadata": {
        "id": "CR3uBQTazDZi"
      }
    },
    {
      "cell_type": "markdown",
      "source": [
        "###Ans. Circular importing means importing the two modules in each other. If suppose we are wokring in MOD1.py file and it is importing some function say F2() from some other module say MOD2.PY file or we can do vice-versa. What will happen is: This will give an import error.\n",
        "\n",
        "###This is because when we import F2() function from module MOD2.py, then this will execute MOD2.py file and in MOD2.py file, there is another statement of importing MOD1.py module.\n",
        "\n",
        "###This will result in endless loop. To avoid this error, we can use if name == 'main'\n",
        "\n",
        "###In this function, we can't directly refer to the function in the program. The addition of this sentence avoids the endless loop of the program . We can use an if name == \"main\" block to allow or prevent parts of code from being run when the modules are imported. When the Python interpreter reads a file, the name variable is set as main if the module being run, or as the module's name if it is imported"
      ],
      "metadata": {
        "id": "Vwxa1AaQ4-Do"
      }
    },
    {
      "cell_type": "markdown",
      "source": [
        "\n",
        "\n",
        "---\n",
        "\n"
      ],
      "metadata": {
        "id": "LvfePWMB5MA1"
      }
    },
    {
      "cell_type": "markdown",
      "source": [
        "###Q4. Why is _ _all_ _ in Python?"
      ],
      "metadata": {
        "id": "ra5rEEz_5M6T"
      }
    },
    {
      "cell_type": "markdown",
      "source": [
        "###Ans.It provides the list of all modules present in a library."
      ],
      "metadata": {
        "id": "56Ql0_iC5RYm"
      }
    },
    {
      "cell_type": "markdown",
      "source": [
        "\n",
        "\n",
        "---\n",
        "\n"
      ],
      "metadata": {
        "id": "myi1y0Rt5WUa"
      }
    },
    {
      "cell_type": "markdown",
      "source": [
        "###Q5. In what situation is it useful to refer to the _ _name_ _ attribute or the string &#39;_ _main_ _&#39;?"
      ],
      "metadata": {
        "id": "rFXx1KyM5X9j"
      }
    },
    {
      "cell_type": "markdown",
      "source": [
        "###Ans. During the time of execution of the code, if we want to refer the module in which we are working on, then we use name attribute. In that case it will return the module in which we are working on. Suppose if the module is being imported from some other module, then name will have the name of that module from where the current module has been imported. The current module in which we are working is refer to the string __main __.\n",
        "\n",
        "###This built-in attributes prints the name of the class, type, function, method, descriptor, or generator instance.\n",
        "\n",
        "###For example, if the python interpreter is running that module (the source file) as the main program, it sets the special name variable to have a value \"main\". If this file is being imported from another module, name will be set to the module's name."
      ],
      "metadata": {
        "id": "3yMrHaPZ5b0s"
      }
    },
    {
      "cell_type": "markdown",
      "source": [
        "\n",
        "\n",
        "---\n",
        "\n"
      ],
      "metadata": {
        "id": "q_2Bhyse5kQJ"
      }
    },
    {
      "cell_type": "markdown",
      "source": [
        "###Q6. What are some of the benefits of attaching a program counter to the RPN interpreter\n",
        "application, which interprets an RPN script line by line?"
      ],
      "metadata": {
        "id": "JFhoCFcV5lAU"
      }
    },
    {
      "cell_type": "markdown",
      "source": [
        "###Ans. Attaching a program counter to an RPN (Reverse Polish Notation) interpreter application, which interprets an RPN script line by line, can offer several benefits:\n",
        "\n",
        "1. Precise Execution Control: A program counter allows for precise control over the execution of the RPN script. It keeps track of the current instruction or line being executed, enabling the interpreter to follow the script sequentially.\n",
        "\n",
        "2. Error Handling: With a program counter, it becomes easier to handle errors in the RPN script. If an error is encountered, the program counter can help identify the exact location of the error in the script, aiding in debugging and providing informative error messages.\n",
        "\n",
        "3. Conditional Branching: Adding a program counter enables the implementation of conditional branching in the RPN script. By evaluating conditions at specific points in the script, you can make decisions on whether to skip or execute certain portions of code, creating more dynamic and flexible scripts.\n",
        "\n",
        "4. Loops and Subroutines: Program counters are essential for implementing loops and subroutines in RPN scripts. They allow you to keep track of loop iterations and return points, enabling the interpreter to properly handle repetitive tasks and function calls.\n",
        "\n",
        "5. Control Flow Analysis: You can perform control flow analysis on the RPN script with a program counter. This analysis can help identify potential performance bottlenecks, optimize script execution, and ensure that the script behaves as expected.\n",
        "\n",
        "6. Execution Monitoring: A program counter also facilitates the monitoring and profiling of script execution. You can track how much time is spent in different parts of the script, which can be valuable for performance tuning and optimization.\n",
        "\n",
        "7. Script Navigation: For interactive or debugging purposes, a program counter can be used to navigate through the RPN script step by step, making it easier to understand how the script works and identify issues.\n",
        "\n",
        "8. Script State Management: By maintaining a program counter, you can also manage the state of the interpreter, including variables, stack contents, and other relevant data. This is crucial for preserving the integrity of the RPN script's execution environment.\n",
        "\n",
        "9. Improved User Experience: In applications where end-users interact with RPN scripts, a program counter can provide a smoother and more predictable user experience by ensuring that scripts execute in a controlled and orderly manner.\n",
        "\n",
        "10. Enhanced Error Reporting: When errors occur during script execution, having a program counter can enhance error reporting by providing context about the location and context of the error, which aids in diagnosing and fixing issues more effectively.\n",
        "\n",
        "In summary, attaching a program counter to an RPN interpreter application adds a layer of control and sophistication to the execution of RPN scripts, making it easier to handle errors, implement complex logic, and optimize performance. These benefits can be especially valuable in scenarios where precise control and flexibility are required."
      ],
      "metadata": {
        "id": "hCSSH6K_5HY1"
      }
    },
    {
      "cell_type": "markdown",
      "source": [
        "\n",
        "\n",
        "---\n",
        "\n"
      ],
      "metadata": {
        "id": "_Tgusma77FF-"
      }
    },
    {
      "cell_type": "markdown",
      "source": [
        "###Q7. What are the minimum expressions or statements (or both) that you&#39;d need to render a basic programming language like RPN primitive but complete— that is, capable of carrying out any computerised task theoretically possible?"
      ],
      "metadata": {
        "id": "cE68zYBF7H17"
      }
    },
    {
      "cell_type": "markdown",
      "source": [
        "###Ans. Creating a basic programming language like RPN (Reverse Polish Notation) that is both primitive and complete, capable of theoretically carrying out any computerized task, requires defining a set of minimal expressions and statements that cover the fundamental aspects of computation. Here's a minimal set of elements you would need:\n",
        "\n",
        "1. **Arithmetic Operations:**\n",
        "   - Addition (+)\n",
        "   - Subtraction (-)\n",
        "   - Multiplication (*)\n",
        "   - Division (/)\n",
        "\n",
        "2. **Stack Operations:**\n",
        "   - Push (to place a value on the stack)\n",
        "   - Pop (to remove a value from the stack)\n",
        "   - Swap (to interchange two values on the stack)\n",
        "\n",
        "3. **Conditional Statements:**\n",
        "   - Conditional branching (e.g., IF...ELSE...ENDIF)\n",
        "\n",
        "4. **Loops:**\n",
        "   - Looping constructs (e.g., FOR...NEXT)\n",
        "\n",
        "5. **Variables:**\n",
        "   - Variable assignment (e.g., LET or SET)\n",
        "   - Variable referencing (to read the value of a variable)\n",
        "\n",
        "6. **Input/Output:**\n",
        "   - Input (e.g., READ)\n",
        "   - Output (e.g., PRINT)\n",
        "\n",
        "7. **Control Flow:**\n",
        "   - Function or subroutine calls\n",
        "   - Return statements\n",
        "\n",
        "8. **Comparisons:**\n",
        "   - Comparison operators (e.g., =, <, >)\n",
        "\n",
        "9. **Data Types:**\n",
        "   - Integer numbers\n",
        "   - Floating-point numbers\n",
        "\n",
        "10. **Comments:**\n",
        "    - A way to add comments or documentation for code readability.\n",
        "\n",
        "With this minimal set of elements, you can build a Turing-complete language. Turing completeness means that the language can theoretically perform any computation that a Turing machine can. However, creating a practical and usable language would likely require additional features and syntactic sugar for convenience and readability.\n",
        "\n",
        "Keep in mind that while this minimal set is theoretically complete, it may not be very user-friendly or efficient for real-world programming tasks. Practical programming languages often include more features, libraries, and abstractions to make development easier and more efficient."
      ],
      "metadata": {
        "id": "khNhQvxN7OIt"
      }
    },
    {
      "cell_type": "markdown",
      "source": [
        "-----------------------------------------------------------------------------------End-----------------------------------------------------------------"
      ],
      "metadata": {
        "id": "FSwbB1Qb7Zpy"
      }
    }
  ]
}