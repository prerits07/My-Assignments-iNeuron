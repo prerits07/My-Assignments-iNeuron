{
  "nbformat": 4,
  "nbformat_minor": 0,
  "metadata": {
    "colab": {
      "provenance": []
    },
    "kernelspec": {
      "name": "python3",
      "display_name": "Python 3"
    },
    "language_info": {
      "name": "python"
    }
  },
  "cells": [
    {
      "cell_type": "markdown",
      "source": [
        "### Python (Advance) Assignment No. 05\n",
        "\n",
        "1 Batch - Full Stack Data Science Bootcamp 2.0\n",
        "\n",
        "2 Name - **Prerit Sharma**\n",
        "\n",
        "3 Email ID - **praritsharma7@gmail.com**"
      ],
      "metadata": {
        "id": "bPf0hYE7W5Gh"
      }
    },
    {
      "cell_type": "markdown",
      "source": [
        "###Q1. What is the meaning of multiple inheritance?"
      ],
      "metadata": {
        "id": "vNEoXyNyWyO4"
      }
    },
    {
      "cell_type": "markdown",
      "source": [
        "###Ans.\n",
        "Inheritence is nothing but reusing the code of Parent class by the child class. Similary when a child class inherits its properties from multiple Parent classes this scenario is called Multiple Inheritence. Multiple inheritance is a feature of some object-oriented computer programming languages in which an object or class can inherit features from more than one parent object or parent class. It is distinct from single inheritance, where an object or class may only inherit from one particular object or class."
      ],
      "metadata": {
        "id": "LdLM-zyaWxJR"
      }
    },
    {
      "cell_type": "code",
      "source": [
        "class Parent_1:\n",
        "    pass\n",
        "class Parent_2:\n",
        "    pass\n",
        "class child(Parent_1,Parent_2):\n",
        "    pass"
      ],
      "metadata": {
        "id": "Svvg5Q9xeb8O"
      },
      "execution_count": null,
      "outputs": []
    },
    {
      "cell_type": "markdown",
      "source": [
        "\n",
        "\n",
        "---\n",
        "\n"
      ],
      "metadata": {
        "id": "aGRshJPsfQEc"
      }
    },
    {
      "cell_type": "markdown",
      "source": [
        "###Q2. What is the concept of delegation?"
      ],
      "metadata": {
        "id": "ofd_irI8fQ0-"
      }
    },
    {
      "cell_type": "markdown",
      "source": [
        "###Ans.\n",
        "Delegation provides a proxy object for any class that we want on top of the main class. It is like a wrapper to our class so that we can access limited resources of the main class.\n",
        "\n",
        "It wraps the object of main class into a smaller object with limited access\n",
        "\n",
        "In simple terms, Delegation means that we can include an instance of another class as an instance variable, and forward messages to the instance."
      ],
      "metadata": {
        "id": "0Fb5nDLdfZUK"
      }
    },
    {
      "cell_type": "code",
      "source": [
        "class Myclass:\n",
        "  def sayHi(self):\n",
        "      print('Hey i am back')\n",
        "  def whoAmI(self):\n",
        "      print('I am the main class')\n",
        "class NewClass:\n",
        "  def __init__(self,obj):\n",
        "      self.main = obj\n",
        "  def welcome(self):\n",
        "      self.main.sayHi()\n",
        "\n",
        "\n",
        "m = Myclass()\n",
        "n = NewClass(m)\n",
        "m.sayHi()\n",
        "n.main.sayHi()\n",
        "n.welcome()\n",
        "n.main.whoAmI()\n"
      ],
      "metadata": {
        "colab": {
          "base_uri": "https://localhost:8080/"
        },
        "id": "a_FdK-7Pffup",
        "outputId": "e1735a65-188a-448a-9427-7f28472850bd"
      },
      "execution_count": null,
      "outputs": [
        {
          "output_type": "stream",
          "name": "stdout",
          "text": [
            "Hey i am back\n",
            "Hey i am back\n",
            "Hey i am back\n",
            "I am the main class\n"
          ]
        }
      ]
    },
    {
      "cell_type": "markdown",
      "source": [
        "\n",
        "\n",
        "---\n",
        "\n"
      ],
      "metadata": {
        "id": "g3l-pHpMrJB3"
      }
    },
    {
      "cell_type": "markdown",
      "source": [
        "###Q3. What is the concept of composition?"
      ],
      "metadata": {
        "id": "FHrdJm4yrJud"
      }
    },
    {
      "cell_type": "markdown",
      "source": [
        "###Ans.\n",
        "In the concept of Composition, a class refers to one or more other classes by using instances of those classes as an instance variable. Irrespective of inheritence, In this approach all the parent class members are not inherited into child class, but only required methods from a class are used by using class instances."
      ],
      "metadata": {
        "id": "xx8F7aDWrOAN"
      }
    },
    {
      "cell_type": "code",
      "source": [
        "class Salary:\n",
        "  def __init__(self,pay):\n",
        "    self.pay = pay\n",
        "  def get_total(self):\n",
        "    return self.pay*12\n",
        "\n",
        "class Employee:\n",
        "  def __init__(self,pay,bonus):\n",
        "      self.pay = pay\n",
        "      self.bonus = bonus\n",
        "      self.obj_salary = Salary(self.pay)\n",
        "  def annual_salary(self):\n",
        "        return f'Total Salary : {str(self.obj_salary.get_total())}'\n",
        "\n",
        "obj_emp = Employee(1800,1700)\n",
        "print(obj_emp.annual_salary())"
      ],
      "metadata": {
        "colab": {
          "base_uri": "https://localhost:8080/"
        },
        "id": "lmBXv4OsrTMd",
        "outputId": "2cf46b93-b1b9-45dd-cab7-0ba3a2a3b8e1"
      },
      "execution_count": null,
      "outputs": [
        {
          "output_type": "stream",
          "name": "stdout",
          "text": [
            "Total Salary : 21600\n"
          ]
        }
      ]
    },
    {
      "cell_type": "markdown",
      "source": [
        "\n",
        "\n",
        "---\n",
        "\n"
      ],
      "metadata": {
        "id": "FM4GpbWrssOG"
      }
    },
    {
      "cell_type": "markdown",
      "source": [
        "###Q4. What are bound methods and how do we use them?"
      ],
      "metadata": {
        "id": "aEFimqwGss7E"
      }
    },
    {
      "cell_type": "markdown",
      "source": [
        "###Ans.\n",
        "If a function is an attribute of class and it is accessed via the instances, they are called bound methods. A bound method is one that has self as its first argument. Since these are dependent on the instance of classes, these are also known as instance methods.\n",
        "\n"
      ],
      "metadata": {
        "id": "bqvdMGr7svru"
      }
    },
    {
      "cell_type": "code",
      "source": [
        "class test:\n",
        "  def method_one(self): #bound method\n",
        "      print(\"called method_one\")\n",
        "  @classmethod\n",
        "  def method_two(cls): #unbound method\n",
        "      print(\"called method_two\")\n",
        "  @staticmethod\n",
        "  def  method_three(): #static method\n",
        "      print(\"called method_three\")\n",
        "test = Test()\n",
        "test.method_one() # accessing through instance object\n",
        "test.method_two() # accessing through instance object\n",
        "Test.method_two() # accessing directly through class\n",
        "Test.method_three() # accessing directly through class"
      ],
      "metadata": {
        "id": "Jt03YxGws14c",
        "colab": {
          "base_uri": "https://localhost:8080/"
        },
        "outputId": "aefe5bcd-7ffe-488a-ca9f-dab454d80e11"
      },
      "execution_count": 7,
      "outputs": [
        {
          "output_type": "stream",
          "name": "stdout",
          "text": [
            "called method_one\n",
            "called method_two\n",
            "called method_two\n",
            "called method_three\n"
          ]
        }
      ]
    },
    {
      "cell_type": "markdown",
      "source": [
        "\n",
        "\n",
        "---\n",
        "\n"
      ],
      "metadata": {
        "id": "llWCIyHMuEuG"
      }
    },
    {
      "cell_type": "markdown",
      "source": [
        "###Q5. What is the purpose of pseudoprivate attributes?"
      ],
      "metadata": {
        "id": "ZBjQVW90uE1b"
      }
    },
    {
      "cell_type": "markdown",
      "source": [
        "###Ans.\n",
        "Pseudoprivate attributes are also useful in larger frameworks or tools, both to avoid introducing new method names that might accidentally hide definitions elsewhere in the class tree and to reduce the chance of internal methods being replaced by names defined lower in the tree. If a method is intended for use only within a class that may be mixed into other classes, the double underscore prefix ensures that the method won't interfere with other names in the tree, especially in multiple-inheritance scenarios\n",
        "\n",
        "Pseudoprivate names also prevent subclasses from accidentally redefining the internal method's names,"
      ],
      "metadata": {
        "id": "lAE5ov3quJdm"
      }
    },
    {
      "cell_type": "code",
      "source": [
        "class Super:\n",
        "  def method(self): # A real applcation method\n",
        "      pass\n",
        "class Tool:\n",
        "  def _method(self): # becomes _Tool_method\n",
        "      pass\n",
        "  def other(self): #uses internal method\n",
        "      self._method()\n",
        "class Sub1(Tool,Super):\n",
        "  def actions(self):\n",
        "      self.method()\n",
        "class sub2(Tool):\n",
        "  def __init__(self):\n",
        "      self.method = 99\n"
      ],
      "metadata": {
        "id": "jrCfnpzjuOlw"
      },
      "execution_count": 10,
      "outputs": []
    },
    {
      "cell_type": "markdown",
      "source": [
        "----------------------------------------------------------------------------End------------------------------------------------------"
      ],
      "metadata": {
        "id": "HZkGsHlWuO7u"
      }
    }
  ]
}