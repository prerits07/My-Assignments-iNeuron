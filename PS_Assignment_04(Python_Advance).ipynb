{
  "nbformat": 4,
  "nbformat_minor": 0,
  "metadata": {
    "colab": {
      "provenance": []
    },
    "kernelspec": {
      "name": "python3",
      "display_name": "Python 3"
    },
    "language_info": {
      "name": "python"
    }
  },
  "cells": [
    {
      "cell_type": "markdown",
      "source": [
        "### Python (Advance) Assignment No. 04\n",
        "\n",
        "1 Batch - Full Stack Data Science Bootcamp 2.0\n",
        "\n",
        "2 Name - **Prerit Sharma**\n",
        "\n",
        "3 Email ID - **praritsharma7@gmail.com**"
      ],
      "metadata": {
        "id": "fclldypFAsFn"
      }
    },
    {
      "cell_type": "markdown",
      "source": [
        "\n",
        "\n",
        "---\n",
        "\n"
      ],
      "metadata": {
        "id": "JMkk9zDOAu6X"
      }
    },
    {
      "cell_type": "markdown",
      "source": [
        "###Q Q1. Which two operator overloading methods can you use in your classes to support iteration?"
      ],
      "metadata": {
        "id": "Wu358BatAvrm"
      }
    },
    {
      "cell_type": "markdown",
      "source": [
        "###Ans.\n",
        "__ _iter___ and __ _next___ are the operator overloading methods in python that support iteration and are collectively called iterator protocol.\n",
        "\n",
        "__ _iter___ returns the iterator object and is called at the start of loop in our respective class.\n",
        "\n",
        "__ _next___ is called at each loop increment, it returns the incremented value. Also Stopiteration is raised when there is no value to return."
      ],
      "metadata": {
        "id": "6sI8AGdhA0g-"
      }
    },
    {
      "cell_type": "code",
      "source": [
        "class Counter:\n",
        " def __init__(self,low,high):\n",
        "      self.current = low\n",
        "      self.high = high\n",
        " def __iner__(self):\n",
        "      return (self)\n",
        " def __next__(self):\n",
        "   if self.current > self.high:\n",
        "       raise StopIteration\n",
        "   else:\n",
        "         self.current += 1\n",
        "         return self.current - 1\n",
        "   for ele in Counter(5,35):\n",
        "     print(ele, end=\"    \")"
      ],
      "metadata": {
        "id": "cP_XL6roBHe2"
      },
      "execution_count": 42,
      "outputs": []
    },
    {
      "cell_type": "markdown",
      "source": [
        "5 6 7 8 9 10 11 12 13 14 15 16 17 18 19 20 21 22 23 24 25 26 27 28 29 30 31 32 33 34 35"
      ],
      "metadata": {
        "id": "hNuGk6JpJb8I"
      }
    },
    {
      "cell_type": "markdown",
      "source": [
        "\n",
        "\n",
        "---\n",
        "\n"
      ],
      "metadata": {
        "id": "bNmgMJFLA0mv"
      }
    },
    {
      "cell_type": "markdown",
      "source": [
        "###Q Q2. In what contexts do the two operator overloading methods manage printing?"
      ],
      "metadata": {
        "id": "K1CkXkqiH39T"
      }
    },
    {
      "cell_type": "markdown",
      "source": [
        "###Ans.\n",
        "str and repr are two operator overloading methods that manage printing.\n",
        "\n",
        "The difference between both of these operators is: The goal of repr is to be unambiguous and str is to be readable.\n",
        "\n",
        "Whenever we are printing any object reference internally, str method will be called by default.\n",
        "\n",
        "The main purpose of str is for readability. It prints the informal string representation of an object, one that is useful for printing the object. It may not be possible to convert result string to original object.\n",
        "\n",
        "repr is used to print official string representation of an object, so it includes all information and development."
      ],
      "metadata": {
        "id": "UJ12YYIQH80C"
      }
    },
    {
      "cell_type": "code",
      "source": [
        "class Student:\n",
        "    def __init__(self,name,roll_no):\n",
        "        self.name = name\n",
        "        self.roll_no = roll_no\n",
        "\n",
        "s1 = Student(\"Mano\",1)\n",
        "print(str(s1))\n",
        "\n",
        "class Student:\n",
        "    def __init__(self,name,roll_no):\n",
        "        self.name = name\n",
        "        self.roll_no = roll_no\n",
        "    def __str__(self):\n",
        "        return f'Student Name: {self.name} and Roll No: {self.roll_no}'\n",
        "\n",
        "s1 = Student(\"Prerit\",1)\n",
        "print(str(s1))\n",
        "\n",
        "import datetime\n",
        "today = datetime.datetime.now()\n",
        "\n",
        "s = str(today) # converting datetime object to presentable str\n",
        "print(s)\n",
        "try: d = eval(s) # converting str back to datetime object\n",
        "except: print(\"Unable to convert back to original object\")\n",
        "\n",
        "u = repr(today) # converting datetime object to str\n",
        "print(u)\n",
        "e = eval(u) # converting str back to datetime object\n",
        "print(e)"
      ],
      "metadata": {
        "colab": {
          "base_uri": "https://localhost:8080/"
        },
        "id": "1ugDgtuAQn1Y",
        "outputId": "27a17f67-e147-45fa-c028-df4ab8971f4e"
      },
      "execution_count": 63,
      "outputs": [
        {
          "output_type": "stream",
          "name": "stdout",
          "text": [
            "<__main__.Student object at 0x7d337aeb4b80>\n",
            "Student Name: Prerit and Roll No: 1\n",
            "2023-09-04 13:02:45.873105\n",
            "Unable to convert back to original object\n",
            "datetime.datetime(2023, 9, 4, 13, 2, 45, 873105)\n",
            "2023-09-04 13:02:45.873105\n"
          ]
        }
      ]
    },
    {
      "cell_type": "markdown",
      "source": [
        "\n",
        "\n",
        "---\n",
        "\n"
      ],
      "metadata": {
        "id": "szreB8COSea6"
      }
    },
    {
      "cell_type": "markdown",
      "source": [
        "###Q Q3. In a class, how do you intercept slice operations?"
      ],
      "metadata": {
        "id": "i6fGW_ZYSgAx"
      }
    },
    {
      "cell_type": "markdown",
      "source": [
        "###Ans.\n",
        "In a class use of slice(), __ getitem __ method is used for intercept slice operation. This slice method is provided with start integer number, stop integer number and step integer number.\n",
        "\n",
        "Example: __ getitem __ (slice(start,stop,step))"
      ],
      "metadata": {
        "id": "711IwQs-SmqB"
      }
    },
    {
      "cell_type": "markdown",
      "source": [
        "\n",
        "\n",
        "---\n",
        "\n"
      ],
      "metadata": {
        "id": "KAjtopxZSuKW"
      }
    },
    {
      "cell_type": "markdown",
      "source": [
        "###Q Q4. In a class, how do you capture in-place addition?"
      ],
      "metadata": {
        "id": "08peKv8gS5j0"
      }
    },
    {
      "cell_type": "markdown",
      "source": [
        "###Ans.\n",
        "a+b is normal addition. Whereas a+=b is inplace addition operation. In this in-place addition a itself will store the value of addition. In a class __ iadd __ method is used for this in-place operation"
      ],
      "metadata": {
        "id": "1K-mm0jySvKu"
      }
    },
    {
      "cell_type": "code",
      "source": [
        "class Book:\n",
        "  def __init__(self,pages):\n",
        "    self.pages = pages\n",
        "  def __iadd__(self,others):\n",
        "    self.pages += others.pages\n",
        "    return self.pages\n",
        "\n",
        "b1=Book(600)\n",
        "b2=Book(700)\n",
        "b1+=b2\n",
        "print(b1)\n"
      ],
      "metadata": {
        "colab": {
          "base_uri": "https://localhost:8080/"
        },
        "id": "SRUV0J0DS-OF",
        "outputId": "caa83ffe-131f-427c-ceee-0a4226acb006"
      },
      "execution_count": 64,
      "outputs": [
        {
          "output_type": "stream",
          "name": "stdout",
          "text": [
            "1300\n"
          ]
        }
      ]
    },
    {
      "cell_type": "markdown",
      "source": [
        "\n",
        "\n",
        "---\n",
        "\n"
      ],
      "metadata": {
        "id": "p63RWCWmS-nM"
      }
    },
    {
      "cell_type": "markdown",
      "source": [
        "###Q Q5. When is it appropriate to use operator overloading?\n"
      ],
      "metadata": {
        "id": "v0n_RDsgUGwS"
      }
    },
    {
      "cell_type": "markdown",
      "source": [
        "###Ans.Operator overloading is used when we want to use an operator other than its normal operation to have different meaning according to the context required in user defined function."
      ],
      "metadata": {
        "id": "wJuYuEewUN0B"
      }
    },
    {
      "cell_type": "code",
      "source": [
        "class Book:\n",
        "  def __init__(self,pages):\n",
        "    self.pages  = pages\n",
        "\n",
        "  def __add__(self,others):\n",
        "    return self.pages+others.pages\n",
        "b1 = Book(700)\n",
        "b2 = Book(800)\n",
        "print(f'Total Number of Pages -> {b1+b2}')\n"
      ],
      "metadata": {
        "colab": {
          "base_uri": "https://localhost:8080/"
        },
        "id": "vTKe2VdHUZzp",
        "outputId": "cb857bf3-6022-4b94-d86c-00298aeac91a"
      },
      "execution_count": 68,
      "outputs": [
        {
          "output_type": "stream",
          "name": "stdout",
          "text": [
            "Total Number of Pages -> 1500\n"
          ]
        }
      ]
    },
    {
      "cell_type": "markdown",
      "source": [
        "-------------------------------------------------------------------End-------------------------------------------------------------"
      ],
      "metadata": {
        "id": "3UW6xhBNV-BW"
      }
    }
  ]
}