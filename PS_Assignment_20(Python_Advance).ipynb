{
  "nbformat": 4,
  "nbformat_minor": 0,
  "metadata": {
    "colab": {
      "provenance": []
    },
    "kernelspec": {
      "name": "python3",
      "display_name": "Python 3"
    },
    "language_info": {
      "name": "python"
    }
  },
  "cells": [
    {
      "cell_type": "markdown",
      "source": [
        "### Python (Advance) Assignment No.20\n",
        "\n",
        "1 Batch - Full Stack Data Science Bootcamp 2.0\n",
        "\n",
        "2 Name - **Prerit Sharma**\n",
        "\n",
        "3 Email ID - **praritsharma7@gmail.com**"
      ],
      "metadata": {
        "id": "vg0ab46h-Vhc"
      }
    },
    {
      "cell_type": "markdown",
      "source": [
        "\n",
        "\n",
        "---\n",
        "\n"
      ],
      "metadata": {
        "id": "jjB7qrw7-a49"
      }
    },
    {
      "cell_type": "markdown",
      "source": [
        "###Q1. Compare and contrast the float and Decimal classes&#39; benefits and drawbacks."
      ],
      "metadata": {
        "id": "BJXmj27f-bw2"
      }
    },
    {
      "cell_type": "markdown",
      "source": [
        "###Ans.Both the float and decimal types store numerical values in Python.\n",
        "\n",
        "###We use floats when convenience and speed matter. A float gives us an approximation of the number we declare.\n",
        "\n",
        "###We use decimals when precision matters. Decimals can suffer from their own precision issues, but generally, decimals are more precise than floats. The performance difference between float and decimal, with Python 3, is not outlandish, and in my experience, the precision benefits of a decimal outweigh the performance benefits of a float."
      ],
      "metadata": {
        "id": "F6ZkV9yy-8bN"
      }
    },
    {
      "cell_type": "markdown",
      "source": [
        "\n",
        "\n",
        "---\n",
        "\n"
      ],
      "metadata": {
        "id": "c9n0NzMd_gD4"
      }
    },
    {
      "cell_type": "markdown",
      "source": [
        "###Q2. Decimal(&#39;1.200&#39;) and Decimal(&#39;1.2&#39;) are two objects to consider. In what sense are these the same object? Are these just two ways of representing the exact same value, or do they correspond to different internal states?"
      ],
      "metadata": {
        "id": "ksWDZTwc_k8K"
      }
    },
    {
      "cell_type": "markdown",
      "source": [
        "###Ans.Both values are same but internal representation at storage Is different. Precsion differs, Decimal('1.200') gives internally 1.200 and Decimal('1.2') gives 1.2.\n",
        "\n"
      ],
      "metadata": {
        "id": "m-BM92rD_tZq"
      }
    },
    {
      "cell_type": "markdown",
      "source": [
        "\n",
        "\n",
        "---\n",
        "\n"
      ],
      "metadata": {
        "id": "kD87_of0AGo5"
      }
    },
    {
      "cell_type": "markdown",
      "source": [
        "###Q3. What happens if the equality of Decimal(&#39;1.200&#39;) and Decimal(&#39;1.2&#39;) is checked?"
      ],
      "metadata": {
        "id": "aKZi_JBmAHTh"
      }
    },
    {
      "cell_type": "markdown",
      "source": [
        "###Ans.Both values are checked to be equal since they only differ in precision."
      ],
      "metadata": {
        "id": "FmgEcj3yAKno"
      }
    },
    {
      "cell_type": "markdown",
      "source": [
        "\n",
        "\n",
        "---\n",
        "\n"
      ],
      "metadata": {
        "id": "X6vkLaEeAPt3"
      }
    },
    {
      "cell_type": "markdown",
      "source": [
        "###Q4. Why is it preferable to start a Decimal object with a string rather than a floating-point value?"
      ],
      "metadata": {
        "id": "4FlGtiPAAQSI"
      }
    },
    {
      "cell_type": "markdown",
      "source": [
        "###Ans.Floating-point value is converted to Decimal format. Decimal can store float value with absolute precision. But when float value is given as Decimal object,it first has to be converted from floating point value which might already have rounding error.\n",
        "\n",
        "###Hence it is preferable to start a Decimal object with a string."
      ],
      "metadata": {
        "id": "EwuQ8Rz6AS6a"
      }
    },
    {
      "cell_type": "markdown",
      "source": [
        "\n",
        "\n",
        "---\n",
        "\n"
      ],
      "metadata": {
        "id": "cX-jvJpZAVUx"
      }
    },
    {
      "cell_type": "markdown",
      "source": [
        "###Q 5. In an arithmetic phrase, how simple is it to combine Decimal objects with integers?"
      ],
      "metadata": {
        "id": "pPmR3aiUAdY7"
      }
    },
    {
      "cell_type": "markdown",
      "source": [
        "###Ans.We can do it with use of Decimal()."
      ],
      "metadata": {
        "id": "yXdzI36jAgZ9"
      }
    },
    {
      "cell_type": "markdown",
      "source": [
        "\n",
        "\n",
        "---\n",
        "\n"
      ],
      "metadata": {
        "id": "w9Pb8vvDAlUz"
      }
    },
    {
      "cell_type": "markdown",
      "source": [
        "###Q6. Can Decimal objects and floating-point values be combined easily?"
      ],
      "metadata": {
        "id": "mi0JQWLvAmur"
      }
    },
    {
      "cell_type": "markdown",
      "source": [
        "###Ans.Arithmetic operfations like Adding,subtracting or multiplying a Decimal object by a floating-point value generates an error.\n",
        "\n",
        "###To do these operations, the floating point has to be converted to a Decimal."
      ],
      "metadata": {
        "id": "l9-ZYC75Apbd"
      }
    },
    {
      "cell_type": "markdown",
      "source": [
        "\n",
        "\n",
        "---\n",
        "\n"
      ],
      "metadata": {
        "id": "HNVIz_ZM_lxt"
      }
    },
    {
      "cell_type": "markdown",
      "source": [
        "###Q7. Using the Fraction class but not the Decimal class, give an example of a quantity that can be expressed with absolute precision."
      ],
      "metadata": {
        "id": "XHTebJ9QAwj-"
      }
    },
    {
      "cell_type": "markdown",
      "source": [
        "###Ans.Value of 0.5 will be represented as ½."
      ],
      "metadata": {
        "id": "K-unPOogA1Am"
      }
    },
    {
      "cell_type": "markdown",
      "source": [
        "\n",
        "\n",
        "---\n",
        "\n"
      ],
      "metadata": {
        "id": "056T0YC-A5an"
      }
    },
    {
      "cell_type": "markdown",
      "source": [
        "###Q8. Describe a quantity that can be accurately expressed by the Decimal or Fraction classes but not by a floating-point value."
      ],
      "metadata": {
        "id": "rJYlzYQ3A5_n"
      }
    },
    {
      "cell_type": "markdown",
      "source": [
        "###Ans.A quantity that can be accurately expressed by the Decimal or Fraction classes but not by a floating-point value is a repeating or non-terminating decimal. For example, the value of 1/3 (one-third) is accurately represented as 0.3333... when using the Fraction class or as 0.3333333333... when using the Decimal class, both of which can handle exact fractions. In contrast, a floating-point value (e.g., in the IEEE 754 standard) cannot precisely represent this value and would result in an approximation like 0.3333333, which may lead to rounding errors in calculations."
      ],
      "metadata": {
        "id": "7p1aBz6MA-Tn"
      }
    },
    {
      "cell_type": "markdown",
      "source": [
        "\n",
        "\n",
        "---\n",
        "\n"
      ],
      "metadata": {
        "id": "3pLaeGqiBKan"
      }
    },
    {
      "cell_type": "markdown",
      "source": [
        "###Q9.Consider the following two fraction objects: Fraction(1, 2) and Fraction(1, 2). (5, 10). Is the internal state of these two objects the same? Why do you think that is?"
      ],
      "metadata": {
        "id": "Gp3p2rGWBDx_"
      }
    },
    {
      "cell_type": "markdown",
      "source": [
        "###Ans.Both will be reduced to 1/2"
      ],
      "metadata": {
        "id": "XWIk0Cs7BHjH"
      }
    },
    {
      "cell_type": "markdown",
      "source": [
        "\n",
        "\n",
        "---\n",
        "\n"
      ],
      "metadata": {
        "id": "QnE1uBHkBJiH"
      }
    },
    {
      "cell_type": "markdown",
      "source": [
        "###Q10. How do the Fraction class and the integer type (int) relate to each other? Containment or inheritance?"
      ],
      "metadata": {
        "id": "90VsQP4dBUyr"
      }
    },
    {
      "cell_type": "markdown",
      "source": [
        "###Ans.Fraction class and integer type(int) are related in form of a container. It contains two ints, one in the numerator and the other in the denominator"
      ],
      "metadata": {
        "id": "aFqJNcJKBXqD"
      }
    },
    {
      "cell_type": "markdown",
      "source": [
        "------------------------------------------------------------------------------------------------------------------------------------------------End----------------------------------------------------------------------"
      ],
      "metadata": {
        "id": "pT3fdqqzC3fy"
      }
    }
  ]
}