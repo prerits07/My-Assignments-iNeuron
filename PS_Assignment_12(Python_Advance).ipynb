{
  "nbformat": 4,
  "nbformat_minor": 0,
  "metadata": {
    "colab": {
      "provenance": []
    },
    "kernelspec": {
      "name": "python3",
      "display_name": "Python 3"
    },
    "language_info": {
      "name": "python"
    }
  },
  "cells": [
    {
      "cell_type": "markdown",
      "source": [
        "### Python (Advance) Assignment No. 12\n",
        "\n",
        "1 Batch - Full Stack Data Science Bootcamp 2.0\n",
        "\n",
        "2 Name - **Prerit Sharma**\n",
        "\n",
        "3 Email ID - **praritsharma7@gmail.com**"
      ],
      "metadata": {
        "id": "JpJWE4alBzZC"
      }
    },
    {
      "cell_type": "markdown",
      "source": [
        "\n",
        "\n",
        "---\n",
        "\n"
      ],
      "metadata": {
        "id": "4rHq0VLAB5mC"
      }
    },
    {
      "cell_type": "markdown",
      "source": [
        "###Q1. Does assigning a value to a string&#39;s indexed character violate Python&#39;s string immutability?"
      ],
      "metadata": {
        "id": "c5ai75tDCB6z"
      }
    },
    {
      "cell_type": "markdown",
      "source": [
        "###Ans.String’s indexed character cannot to be assigned a New value as Strings are immutable."
      ],
      "metadata": {
        "id": "0IymUiE2CFVg"
      }
    },
    {
      "cell_type": "code",
      "source": [
        "Example:\n",
        "name = \"Reinforcement\"\n",
        "print(id(name)) #73472\n",
        "name[0] = \"V\" # Raises TypeError\n"
      ],
      "metadata": {
        "id": "XY4uhtBmCNn4"
      },
      "execution_count": null,
      "outputs": []
    },
    {
      "cell_type": "markdown",
      "source": [
        "\n",
        "\n",
        "---\n",
        "\n"
      ],
      "metadata": {
        "id": "X5AsSjMgCG54"
      }
    },
    {
      "cell_type": "markdown",
      "source": [
        "###Q2. Does using the += operator to concatenate strings violate Python&#39;s string immutability? Why or why not?"
      ],
      "metadata": {
        "id": "MJU1gtUfCSYI"
      }
    },
    {
      "cell_type": "markdown",
      "source": [
        "###Ans.+= operator is used to concatenate strings. It does not violate Python’s string immutability Property because doing so creates a new association with data and variable. E.g. str_1=\"a\" and str_1+=\"b. Effect of this statement is to create string ab and reassign it to variable str_1. Any string data is not actually modified."
      ],
      "metadata": {
        "id": "a8sGK1w_CWww"
      }
    },
    {
      "cell_type": "code",
      "source": [
        "str_1 = 'a'\n",
        "print(id(str_1))\n",
        "str_1 += 'b'\n",
        "print(id(str_1)) # Does not Modify existing string, Creates a New String Object"
      ],
      "metadata": {
        "colab": {
          "base_uri": "https://localhost:8080/"
        },
        "id": "pI_XzaZOCeGQ",
        "outputId": "621fe4a8-f72e-4efb-9b94-79e6dd35e6f7"
      },
      "execution_count": 1,
      "outputs": [
        {
          "output_type": "stream",
          "name": "stdout",
          "text": [
            "136893906091440\n",
            "136893478897200\n"
          ]
        }
      ]
    },
    {
      "cell_type": "markdown",
      "source": [
        "\n",
        "\n",
        "---\n",
        "\n"
      ],
      "metadata": {
        "id": "I-pBrSKSCdWg"
      }
    },
    {
      "cell_type": "markdown",
      "source": [
        "###Q3. In Python, how many different ways are there to index a character?\n",
        "\n"
      ],
      "metadata": {
        "id": "JFAh-wyMCjGx"
      }
    },
    {
      "cell_type": "markdown",
      "source": [
        "###Ans.A Character in string can be indexed using string name followed by index number of character in square bracket. Positive Indexing i.e. first index is 0 an so on, or Negative Indexing i.e. last letter is -1 and so on can be used to index a character"
      ],
      "metadata": {
        "id": "vL68Lt-1CqCh"
      }
    },
    {
      "cell_type": "code",
      "source": [
        "in_string = \"iNeuron Full Stack Data Science 2.0\"\n",
        "print(in_string[9],in_string[10],in_string[2]) # Positive Indexing\n",
        "print(in_string[-1],in_string[-5],in_string[-2]) # Negative Indexing"
      ],
      "metadata": {
        "colab": {
          "base_uri": "https://localhost:8080/"
        },
        "id": "RmRMbXhXCvep",
        "outputId": "ea294dbb-7028-4c2f-9be4-eb4f7f0ea472"
      },
      "execution_count": 3,
      "outputs": [
        {
          "output_type": "stream",
          "name": "stdout",
          "text": [
            "u l e\n",
            "0 e .\n"
          ]
        }
      ]
    },
    {
      "cell_type": "markdown",
      "source": [
        "\n",
        "\n",
        "---\n",
        "\n"
      ],
      "metadata": {
        "id": "0On9VFjSC1hY"
      }
    },
    {
      "cell_type": "markdown",
      "source": [
        "###Q4. What is the relationship between indexing and slicing?"
      ],
      "metadata": {
        "id": "0CBY2n7AC2bo"
      }
    },
    {
      "cell_type": "markdown",
      "source": [
        "###Ans.We can access elements of sequence datatypes by using slicing and indexing. Indexing is used to obtaining individual element while slicing for sequence of elements."
      ],
      "metadata": {
        "id": "28p-Hjl2C5QL"
      }
    },
    {
      "cell_type": "code",
      "source": [
        "in_string = \"iNeuron Full Stack Data Science 2.0\"\n",
        "print(in_string[1],in_string[3],in_string[5]) # Indexing\n",
        "print(in_string[1:15]) # Slicing"
      ],
      "metadata": {
        "colab": {
          "base_uri": "https://localhost:8080/"
        },
        "id": "bME9l4SAC-lY",
        "outputId": "c03f0a57-32a2-4db5-a296-875c96eb5ace"
      },
      "execution_count": 4,
      "outputs": [
        {
          "output_type": "stream",
          "name": "stdout",
          "text": [
            "N u o\n",
            "Neuron Full St\n"
          ]
        }
      ]
    },
    {
      "cell_type": "markdown",
      "source": [
        "\n",
        "\n",
        "---\n",
        "\n"
      ],
      "metadata": {
        "id": "zncKicS-DDOA"
      }
    },
    {
      "cell_type": "markdown",
      "source": [
        "###Q5. What is an indexed character&#39;s exact data type? What is the data form of a slicing-generated substring?"
      ],
      "metadata": {
        "id": "jt3KdJyjDEVK"
      }
    },
    {
      "cell_type": "markdown",
      "source": [
        "###Ans.Indexed characters and sliced substrings have datatype String."
      ],
      "metadata": {
        "id": "MpNmIwIQDIpg"
      }
    },
    {
      "cell_type": "code",
      "source": [
        "in_string = \"iNeuron Full Stack Data Science 2.0\"\n",
        "print(type(in_string[3])) # Indexing -> str\n",
        "print(type(in_string[1:10])) # Indexing -> str"
      ],
      "metadata": {
        "colab": {
          "base_uri": "https://localhost:8080/"
        },
        "id": "-N-qmUZVDOHx",
        "outputId": "a748f29d-a56b-426e-ca77-d270dc4d0c86"
      },
      "execution_count": 5,
      "outputs": [
        {
          "output_type": "stream",
          "name": "stdout",
          "text": [
            "<class 'str'>\n",
            "<class 'str'>\n"
          ]
        }
      ]
    },
    {
      "cell_type": "markdown",
      "source": [
        "\n",
        "\n",
        "---\n",
        "\n"
      ],
      "metadata": {
        "id": "p4LOhp0wDSfg"
      }
    },
    {
      "cell_type": "markdown",
      "source": [
        "###Q6. What is the relationship between string and character &quot;types&quot; in Python?"
      ],
      "metadata": {
        "id": "EEatIW0sDWqY"
      }
    },
    {
      "cell_type": "markdown",
      "source": [
        "###Ans.Object that contains sequence of character datatypes are called String.\n"
      ],
      "metadata": {
        "id": "glYJygoNDZzf"
      }
    },
    {
      "cell_type": "markdown",
      "source": [
        "###Q7. Identify at least two operators and one method that allow you to combine one or more smaller strings to create a larger string."
      ],
      "metadata": {
        "id": "JTMMF9ajDep3"
      }
    },
    {
      "cell_type": "markdown",
      "source": [
        "###Ans.+, += and * allow to combine one or more smaller strings to create a larger string. .join() method joins element of iterable type like list and tuple to get a combined string."
      ],
      "metadata": {
        "id": "EWnJUpr1Dik3"
      }
    },
    {
      "cell_type": "code",
      "source": [
        "in_string = 'iNeuron '\n",
        "in_string += 'Full Stack Data Science 2.0'\n",
        "print(in_string + ' FSDS 2.0')\n",
        "print('FSDS 2.0 '*3)\n",
        "print(\" \".join(['I','N','E','U','R','O','N'])) # List Iterable\n",
        "print(\" \".join(('I','N','E','U','R','O','N')).lower()) # Tuple Iterable"
      ],
      "metadata": {
        "colab": {
          "base_uri": "https://localhost:8080/"
        },
        "id": "aDdvSwlwDoKX",
        "outputId": "95527d33-1728-4491-b697-084e8db7285f"
      },
      "execution_count": 6,
      "outputs": [
        {
          "output_type": "stream",
          "name": "stdout",
          "text": [
            "iNeuron Full Stack Data Science 2.0 FSDS 2.0\n",
            "FSDS 2.0 FSDS 2.0 FSDS 2.0 \n",
            "I N E U R O N\n",
            "i n e u r o n\n"
          ]
        }
      ]
    },
    {
      "cell_type": "markdown",
      "source": [
        "\n",
        "\n",
        "---\n",
        "\n"
      ],
      "metadata": {
        "id": "NmkWa-VwDnZ3"
      }
    },
    {
      "cell_type": "markdown",
      "source": [
        "###Q8. What is the benefit of first checking the target string with in or not in before using the index method to find a substring?"
      ],
      "metadata": {
        "id": "nu1iudVmDyIX"
      }
    },
    {
      "cell_type": "markdown",
      "source": [
        "###Ans.Checking the target string with in or not Operators before using the index method to find a substring just helps confirming availability of substring and thus avoid raising of ValueError."
      ],
      "metadata": {
        "id": "JWhrXKGYD2an"
      }
    },
    {
      "cell_type": "code",
      "source": [
        "Example:\n",
        "in_string = \"ineuron\"\n",
        "in_string.index('x') # Raises ValueError\n",
        "in_string.index('u') # 3"
      ],
      "metadata": {
        "id": "j2JKriAbD8lB"
      },
      "execution_count": null,
      "outputs": []
    },
    {
      "cell_type": "markdown",
      "source": [
        "\n",
        "\n",
        "---\n",
        "\n"
      ],
      "metadata": {
        "id": "nOLP_GsJEBCe"
      }
    },
    {
      "cell_type": "markdown",
      "source": [
        "###Q9. Which operators and built-in string methods produce simple Boolean (true/false) results?"
      ],
      "metadata": {
        "id": "GrRjBADXECUg"
      }
    },
    {
      "cell_type": "markdown",
      "source": [
        "###Ans.The String Operators and built-in methods to Produce Simple Boolean (True/False) Results are:\n",
        "\n",
        "in\n",
        "\n",
        "not\n",
        "\n",
        "<string>.isalpha()\n",
        "\n",
        "<string>.isalnum()\n",
        "\n",
        "<string>.isdecimal()\n",
        "\n",
        "<string>.isdigit()\n",
        "\n",
        "<string>.islower()\n",
        "\n",
        "<string>.isnumeric()\n",
        "\n",
        "<string>.isprintable()\n",
        "\n",
        "<string>.isspace()\n",
        "\n",
        "<string>.istitle()"
      ],
      "metadata": {
        "id": "SSzo5ut_EErI"
      }
    },
    {
      "cell_type": "markdown",
      "source": [
        "--------------------------------------------------------------------------------------End--------------------------------------------------------------------------"
      ],
      "metadata": {
        "id": "Ug6SkIZhEZjX"
      }
    }
  ]
}