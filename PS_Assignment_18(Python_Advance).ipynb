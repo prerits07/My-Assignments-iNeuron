{
  "nbformat": 4,
  "nbformat_minor": 0,
  "metadata": {
    "colab": {
      "provenance": []
    },
    "kernelspec": {
      "name": "python3",
      "display_name": "Python 3"
    },
    "language_info": {
      "name": "python"
    }
  },
  "cells": [
    {
      "cell_type": "markdown",
      "source": [
        "### Python (Advance) Assignment No. 18\n",
        "\n",
        "1 Batch - Full Stack Data Science Bootcamp 2.0\n",
        "\n",
        "2 Name - **Prerit Sharma**\n",
        "\n",
        "3 Email ID - **praritsharma7@gmail.com**"
      ],
      "metadata": {
        "id": "5ATux5wCLFO_"
      }
    },
    {
      "cell_type": "markdown",
      "source": [
        "\n",
        "\n",
        "---\n",
        "\n"
      ],
      "metadata": {
        "id": "aqRBiPqDLH52"
      }
    },
    {
      "cell_type": "markdown",
      "source": [
        "###Q1. Describe the differences between text and binary files in a single paragraph."
      ],
      "metadata": {
        "id": "Fz3Uu8hbLKbr"
      }
    },
    {
      "cell_type": "markdown",
      "source": [
        "###Ans. The differences between Text Files and Binary Files are:\n",
        "\n",
        "Text files are special subset of binary files that are used to store human readable characters as a rich text document or plain text document. Text files also store data in sequential bytes but bits in text file represents characters. where as Binary files are those typical files that store data in the form of sequence of bytes grouped into eight bits or sometimes sixteen bits. These bits represent custom data and such files can store multiple types of data (images, audio, text, etc) under a single file."
      ],
      "metadata": {
        "id": "fIByM_NrLTOH"
      }
    },
    {
      "cell_type": "markdown",
      "source": [
        "\n",
        "\n",
        "---\n",
        "\n"
      ],
      "metadata": {
        "id": "ToB1SeFILeFT"
      }
    },
    {
      "cell_type": "markdown",
      "source": [
        "###Q2. What are some scenarios where using text files will be the better option? When would you like to use binary files instead of text files?"
      ],
      "metadata": {
        "id": "d0JSi1O6LfXN"
      }
    },
    {
      "cell_type": "markdown",
      "source": [
        "###Ans. Text files are less prone to get corrupted as any undesired change may just show up once the file is opened and then can easily be removed whereas binary files can be used instead of text files for image data/video/audio. For many types of data, binary representations are much more space-efficient. For instance, you could represent an image as a text file. But any color represented as a 24-bit RGB value in a binary file has to be represented as a six-character code (e.g. FFFFFF for white) in text, which is literally twice as many bits. Another reason for using binary formats is that they can map directly onto the internal representation of the data that the program is using. If my program uses a complex data structure that’s full of integer, float, and byte values, when I read it in from a text file I have to parse every character of text and interpret it, spending processing time (and writing logic) to figure how to convert the 88 bits in “2983102931,” into the 32-bit integer that the text represents. If I read it from a binary file, the program just copies those 32 bits from the file into memory.\n",
        "\n"
      ],
      "metadata": {
        "id": "WbTomjWyLk7h"
      }
    },
    {
      "cell_type": "markdown",
      "source": [
        "\n",
        "\n",
        "---\n",
        "\n"
      ],
      "metadata": {
        "id": "OvjMQGvILt1O"
      }
    },
    {
      "cell_type": "markdown",
      "source": [
        "###Q3. What are some of the issues with using binary operations to read and write a Python integer directly to disc?"
      ],
      "metadata": {
        "id": "qSCKS211LvaT"
      }
    },
    {
      "cell_type": "markdown",
      "source": [
        "###Ans. When we read or write a python integer using binary operations\n",
        "\n",
        "1.Binary operations deal with raw data\n",
        "\n",
        "2.One needs to identify how many bytes one would read or write."
      ],
      "metadata": {
        "id": "JeTcJ-5cLz94"
      }
    },
    {
      "cell_type": "markdown",
      "source": [
        "\n",
        "\n",
        "---\n",
        "\n"
      ],
      "metadata": {
        "id": "T33XqmMKL7WF"
      }
    },
    {
      "cell_type": "markdown",
      "source": [
        "###Q4. Describe a benefit of using the with keyword instead of explicitly opening a file."
      ],
      "metadata": {
        "id": "IBxkL2qoL90a"
      }
    },
    {
      "cell_type": "markdown",
      "source": [
        "###Ans. When a file is opened using the with keyword,it automatically closes the file if some exceptions occur after opening a file, or at the end of the file . Thereby not leaving a file in open mode and also there would no need to explicitly close a file. Using with means that the file will be closed as soon as you leave the block. This is beneficial because closing a file is something that can easily be forgotten and ties up resources that you no longer need."
      ],
      "metadata": {
        "id": "9fxTmMdsMC5_"
      }
    },
    {
      "cell_type": "markdown",
      "source": [
        "\n",
        "\n",
        "---\n",
        "\n"
      ],
      "metadata": {
        "id": "3BEPISQeMJqO"
      }
    },
    {
      "cell_type": "markdown",
      "source": [
        "###Q5. Does Python have the trailing newline while reading a line of text? Does Python append a newline when you write a line of text?"
      ],
      "metadata": {
        "id": "f0cyMzBKMLA7"
      }
    },
    {
      "cell_type": "markdown",
      "source": [
        "###Ans. Yes, Python have the trailing newline while reading a line of text. When we write, a newline has to be provided in python explicitly to append a newline. Hence Python does not append a newline implicitly"
      ],
      "metadata": {
        "id": "tCJFwQ5TMRDj"
      }
    },
    {
      "cell_type": "markdown",
      "source": [
        "\n",
        "\n",
        "---\n",
        "\n"
      ],
      "metadata": {
        "id": "KhYb6X7MMWik"
      }
    },
    {
      "cell_type": "markdown",
      "source": [
        "###Q6. What file operations enable for random-access operation?"
      ],
      "metadata": {
        "id": "dK8d8U_9McLJ"
      }
    },
    {
      "cell_type": "markdown",
      "source": [
        "###Ans. The file operations enable for random-access operation are seek() and tell() ."
      ],
      "metadata": {
        "id": "NM98NOm5MhPZ"
      }
    },
    {
      "cell_type": "markdown",
      "source": [
        "\n",
        "\n",
        "---\n",
        "\n"
      ],
      "metadata": {
        "id": "vLCZuvNXMrY0"
      }
    },
    {
      "cell_type": "markdown",
      "source": [
        "###Q7. When do you think you&#39;ll use the struct package the most?"
      ],
      "metadata": {
        "id": "eJH1NCI3MwSP"
      }
    },
    {
      "cell_type": "markdown",
      "source": [
        "###Ans. The struct package is mostly used while converting a common python language types into C language types."
      ],
      "metadata": {
        "id": "j1OfL-zKM1RN"
      }
    },
    {
      "cell_type": "markdown",
      "source": [
        "\n",
        "\n",
        "---\n",
        "\n"
      ],
      "metadata": {
        "id": "ItAhIvutM9XC"
      }
    },
    {
      "cell_type": "markdown",
      "source": [
        "###Q8. When is pickling the best option?"
      ],
      "metadata": {
        "id": "CS6KOFZxM-XZ"
      }
    },
    {
      "cell_type": "markdown",
      "source": [
        "###Ans. Pickling is best option for creating a new binary file using python. Pickle in Python is primarily used in serializing and deserializing a Python object structure. In other words, it’s the process of converting a Python object into a byte stream to store it in a file/database, maintain program state across sessions, or transport data over the network. The pickled byte stream can be used to re-create the original object hierarchy by unpickling the stream. This whole process is similar to object serialization in Java or .Net."
      ],
      "metadata": {
        "id": "PFz0-uaJNHI_"
      }
    },
    {
      "cell_type": "markdown",
      "source": [
        "\n",
        "\n",
        "---\n",
        "\n"
      ],
      "metadata": {
        "id": "LVsc6Rh6NNS9"
      }
    },
    {
      "cell_type": "markdown",
      "source": [
        "###Q9. When will it be best to use the shelve package?"
      ],
      "metadata": {
        "id": "cphaNI4kNOTK"
      }
    },
    {
      "cell_type": "markdown",
      "source": [
        "###Ans. Shelve package is used to pickle data but treats the entire file as dictionary. A “shelf” is a persistent, dictionary-like object. The difference with “dbm” databases is that the values (not the keys) in a shelf can be essentially arbitrary Python objects — anything that the pickle module can handle. This includes most class instances, recursive data types, and objects containing lots of shared sub-objects. The keys are ordinary strings.\n",
        "\n",
        "Syntax: shelve.open(filename, flag='c', protocol=None, writeback=False)"
      ],
      "metadata": {
        "id": "K9OX-lCUNRrf"
      }
    },
    {
      "cell_type": "markdown",
      "source": [
        "\n",
        "\n",
        "---\n",
        "\n"
      ],
      "metadata": {
        "id": "2g58B0D5NhNA"
      }
    },
    {
      "cell_type": "markdown",
      "source": [
        "###Q10. What is a special restriction when using the shelve package, as opposed to using other data dictionaries?"
      ],
      "metadata": {
        "id": "hIUIjHU4NiRv"
      }
    },
    {
      "cell_type": "markdown",
      "source": [
        "###Ans. Only string data type can be used as key in this special dictionary (shelve package) object, whereas any pickle Python object can be used as value."
      ],
      "metadata": {
        "id": "ChEJ-C9RMhXO"
      }
    },
    {
      "cell_type": "markdown",
      "source": [
        "-------------------------------------------------------------------------------------------------------------------------------------End---------------------------------------------------------------------"
      ],
      "metadata": {
        "id": "lNPTsXtFNuz2"
      }
    }
  ]
}