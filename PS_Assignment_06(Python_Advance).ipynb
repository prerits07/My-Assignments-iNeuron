{
  "nbformat": 4,
  "nbformat_minor": 0,
  "metadata": {
    "colab": {
      "provenance": []
    },
    "kernelspec": {
      "name": "python3",
      "display_name": "Python 3"
    },
    "language_info": {
      "name": "python"
    }
  },
  "cells": [
    {
      "cell_type": "markdown",
      "source": [
        "### Python (Advance) Assignment No. 06\n",
        "\n",
        "1 Batch - Full Stack Data Science Bootcamp 2.0\n",
        "\n",
        "2 Name - **Prerit Sharma**\n",
        "\n",
        "3 Email ID - **praritsharma7@gmail.com**\n",
        "\n",
        "\n",
        "\n"
      ],
      "metadata": {
        "id": "77GkSl_12M63"
      }
    },
    {
      "cell_type": "markdown",
      "source": [
        "\n",
        "\n",
        "---\n",
        "\n"
      ],
      "metadata": {
        "id": "l_iDdAYx2TcO"
      }
    },
    {
      "cell_type": "markdown",
      "source": [
        "###Q1. Describe three applications for exception processing."
      ],
      "metadata": {
        "id": "Dnhb_ZOz2djt"
      }
    },
    {
      "cell_type": "markdown",
      "source": [
        "###Ans.\n",
        "Exception Processing is important to find exceptions that causes the runtime error as runtime errors halt the program execution when exception occurs.\n",
        "\n",
        "Exception Processing is used in Various Applications. Few examples are:\n",
        "\n",
        "1.Checking Appropriate use of input in an application\n",
        "\n",
        "2.Checking for Arithmetic exceptions in mathematical executions\n",
        "\n",
        "3.Checking File I/O exceptions during File handling"
      ],
      "metadata": {
        "id": "3iBrBM8r2jUt"
      }
    },
    {
      "cell_type": "markdown",
      "source": [
        "\n",
        "\n",
        "---\n",
        "\n"
      ],
      "metadata": {
        "id": "2akjHVi32wUm"
      }
    },
    {
      "cell_type": "markdown",
      "source": [
        "###Q2. What happens if you don&#39;t do something extra to treat an exception?"
      ],
      "metadata": {
        "id": "EfTGR98D2xKd"
      }
    },
    {
      "cell_type": "markdown",
      "source": [
        "###Ans.\n",
        "If Exceptions are not handled, flow of program will be broken during the run time which might lead to an abnormal termination of the program. Inshort inability of program to handle exceptions will result in crashing of program and we will not be able to get the desired result."
      ],
      "metadata": {
        "id": "Cq6EfMcT20zG"
      }
    },
    {
      "cell_type": "markdown",
      "source": [
        "\n",
        "\n",
        "---\n",
        "\n"
      ],
      "metadata": {
        "id": "VGLyH2x329Cu"
      }
    },
    {
      "cell_type": "markdown",
      "source": [
        "###Q3. What are your options for recovering from an exception in your script?"
      ],
      "metadata": {
        "id": "WHCrSfCj29s1"
      }
    },
    {
      "cell_type": "markdown",
      "source": [
        "###Ans.Python provides try and except statements for recovering from an exception in our script."
      ],
      "metadata": {
        "id": "Nw7n_MEi3DLO"
      }
    },
    {
      "cell_type": "code",
      "source": [
        "try:\n",
        "  print(x)\n",
        "except:\n",
        "  print(\"An exception occurred\")\n"
      ],
      "metadata": {
        "colab": {
          "base_uri": "https://localhost:8080/"
        },
        "id": "l1TfhJfM3HcY",
        "outputId": "b9e0d3d0-c1fc-443b-c64e-246bda3d9db9"
      },
      "execution_count": 1,
      "outputs": [
        {
          "output_type": "stream",
          "name": "stdout",
          "text": [
            "An exception occurred\n"
          ]
        }
      ]
    },
    {
      "cell_type": "markdown",
      "source": [
        "\n",
        "\n",
        "---\n",
        "\n"
      ],
      "metadata": {
        "id": "XPiwz1zw3sI2"
      }
    },
    {
      "cell_type": "markdown",
      "source": [
        "###Q4. Describe two methods for triggering exceptions in your script."
      ],
      "metadata": {
        "id": "creJn8AV3s31"
      }
    },
    {
      "cell_type": "markdown",
      "source": [
        "###Ans.\n",
        "raise and assert are two methods that can be used to trigger manual exceptions in our script.\n",
        "\n",
        "1.raise method triggers an exception if condition provided to it turns out to be True.\n",
        "\n",
        "2.assert will let the program to continue execution if condition provided to it turns out to be True else exception will be raised"
      ],
      "metadata": {
        "id": "-VI4ldG03uX2"
      }
    },
    {
      "cell_type": "code",
      "source": [
        "# Example of raise\n",
        "x = 101\n",
        "raise Exception(f'X Value Should not exceed 5 The Provided Value of X is {x}')"
      ],
      "metadata": {
        "colab": {
          "base_uri": "https://localhost:8080/",
          "height": 210
        },
        "id": "bl-6Wbll31mu",
        "outputId": "5f3f27a3-d97f-4ed1-aa24-4429a56532e1"
      },
      "execution_count": 2,
      "outputs": [
        {
          "output_type": "error",
          "ename": "Exception",
          "evalue": "ignored",
          "traceback": [
            "\u001b[0;31m---------------------------------------------------------------------------\u001b[0m",
            "\u001b[0;31mException\u001b[0m                                 Traceback (most recent call last)",
            "\u001b[0;32m<ipython-input-2-2ca1ac08df5e>\u001b[0m in \u001b[0;36m<cell line: 3>\u001b[0;34m()\u001b[0m\n\u001b[1;32m      1\u001b[0m \u001b[0;31m# Example of raise\u001b[0m\u001b[0;34m\u001b[0m\u001b[0;34m\u001b[0m\u001b[0m\n\u001b[1;32m      2\u001b[0m \u001b[0mx\u001b[0m \u001b[0;34m=\u001b[0m \u001b[0;36m101\u001b[0m\u001b[0;34m\u001b[0m\u001b[0;34m\u001b[0m\u001b[0m\n\u001b[0;32m----> 3\u001b[0;31m \u001b[0;32mraise\u001b[0m \u001b[0mException\u001b[0m\u001b[0;34m(\u001b[0m\u001b[0;34mf'X Value Should not exceed 5 The Provided Value of X is {x}'\u001b[0m\u001b[0;34m)\u001b[0m\u001b[0;34m\u001b[0m\u001b[0;34m\u001b[0m\u001b[0m\n\u001b[0m",
            "\u001b[0;31mException\u001b[0m: X Value Should not exceed 5 The Provided Value of X is 101"
          ]
        }
      ]
    },
    {
      "cell_type": "code",
      "source": [
        "# Example of assert\n",
        "assert(2==10), \"2 is not equal to 4\""
      ],
      "metadata": {
        "colab": {
          "base_uri": "https://localhost:8080/",
          "height": 193
        },
        "id": "lYZuKJtJ36ON",
        "outputId": "e649cced-9ed4-4b13-cc41-d62c2797deaf"
      },
      "execution_count": 3,
      "outputs": [
        {
          "output_type": "error",
          "ename": "AssertionError",
          "evalue": "ignored",
          "traceback": [
            "\u001b[0;31m---------------------------------------------------------------------------\u001b[0m",
            "\u001b[0;31mAssertionError\u001b[0m                            Traceback (most recent call last)",
            "\u001b[0;32m<ipython-input-3-d5761c283d02>\u001b[0m in \u001b[0;36m<cell line: 2>\u001b[0;34m()\u001b[0m\n\u001b[1;32m      1\u001b[0m \u001b[0;31m# Example of assert\u001b[0m\u001b[0;34m\u001b[0m\u001b[0;34m\u001b[0m\u001b[0m\n\u001b[0;32m----> 2\u001b[0;31m \u001b[0;32massert\u001b[0m\u001b[0;34m(\u001b[0m\u001b[0;36m2\u001b[0m\u001b[0;34m==\u001b[0m\u001b[0;36m10\u001b[0m\u001b[0;34m)\u001b[0m\u001b[0;34m,\u001b[0m \u001b[0;34m\"2 is not equal to 4\"\u001b[0m\u001b[0;34m\u001b[0m\u001b[0;34m\u001b[0m\u001b[0m\n\u001b[0m",
            "\u001b[0;31mAssertionError\u001b[0m: 2 is not equal to 4"
          ]
        }
      ]
    },
    {
      "cell_type": "markdown",
      "source": [
        "\n",
        "\n",
        "---\n",
        "\n"
      ],
      "metadata": {
        "id": "nQM9W6Do4IY4"
      }
    },
    {
      "cell_type": "markdown",
      "source": [
        "###Q5. Identify two methods for specifying actions to be executed at termination time, regardless of whether or not an exception exists."
      ],
      "metadata": {
        "id": "62yNrWx64KD3"
      }
    },
    {
      "cell_type": "markdown",
      "source": [
        "###Ans.\n",
        "Python Provides else and finally blocks for specifying actions to be executed at termination time, regardless of whether an exceptions exists or not"
      ],
      "metadata": {
        "id": "rl4rW3Vb4NeS"
      }
    },
    {
      "cell_type": "markdown",
      "source": [
        "----------------------------------------------------------------------------End--------------------------------------------------------------------------------"
      ],
      "metadata": {
        "id": "wO9l6k8A4UqV"
      }
    }
  ]
}