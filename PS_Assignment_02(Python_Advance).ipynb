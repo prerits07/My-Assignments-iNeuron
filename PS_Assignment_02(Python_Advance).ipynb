{
  "nbformat": 4,
  "nbformat_minor": 0,
  "metadata": {
    "colab": {
      "provenance": []
    },
    "kernelspec": {
      "name": "python3",
      "display_name": "Python 3"
    },
    "language_info": {
      "name": "python"
    }
  },
  "cells": [
    {
      "cell_type": "markdown",
      "source": [
        "### Python (Advance) Assignment No. 02\n",
        "\n",
        "1 Batch - Full Stack Data Science Bootcamp 2.0\n",
        "\n",
        "2 Name - **Prerit Sharma**\n",
        "\n",
        "3 Email ID - **praritsharma7@gmail.com**"
      ],
      "metadata": {
        "id": "keExG5bEQyje"
      }
    },
    {
      "cell_type": "markdown",
      "source": [
        "\n",
        "\n",
        "---\n",
        "\n"
      ],
      "metadata": {
        "id": "AexQsDb2RyG2"
      }
    },
    {
      "cell_type": "markdown",
      "source": [
        "###Q1. What is the relationship between classes and modules?"
      ],
      "metadata": {
        "id": "Q7l-LtjqRy-E"
      }
    },
    {
      "cell_type": "markdown",
      "source": [
        "###Ans.\n",
        "Classes are blueprints that allow you to create instances with attributes and bound functionality. Classes support inheritance, metaclasses, and descriptors.\n",
        "\n",
        "Whereas, Modules in python is simply a way to organize the code, and it contains either python classes or just functions. If you need those classes or functions in your project, you just import them."
      ],
      "metadata": {
        "id": "jFcxcTg8SHfU"
      }
    },
    {
      "cell_type": "markdown",
      "source": [
        "\n",
        "\n",
        "---\n",
        "\n"
      ],
      "metadata": {
        "id": "_N2pLpF5Sfme"
      }
    },
    {
      "cell_type": "markdown",
      "source": [
        "###Q2. How do you make instances and classes?"
      ],
      "metadata": {
        "id": "Ra92xHXBSgY8"
      }
    },
    {
      "cell_type": "markdown",
      "source": [
        "###Ans.\n",
        "To create instances of a class, you call the class using class name and pass in whatever arguments its init method accepts."
      ],
      "metadata": {
        "id": "OZMl9AffSkOx"
      }
    },
    {
      "cell_type": "code",
      "source": [
        "\"This would create first object of Employee class\"\n",
        "emp1 = Employee(\"Sandeep\", 40000)\n",
        "\"This would create second object of Employee class\"\n",
        "emp2 = Employee(\"Ram\", 50000)"
      ],
      "metadata": {
        "id": "gieUMbp7SptY"
      },
      "execution_count": 5,
      "outputs": []
    },
    {
      "cell_type": "markdown",
      "source": [
        "For creating a class, we use the Class keyword. Class keyword is followed by classname and semicolon."
      ],
      "metadata": {
        "id": "d0krIrMmppdY"
      }
    },
    {
      "cell_type": "code",
      "source": [
        "#Example:\n",
        "#Here Employee is a class created with class keyword with arguments gender and salary.\n",
        "\n",
        "class Employee:\n",
        "    def __init__(self, gender,salary):\n",
        "        self.gender = gender\n",
        "        self.salary = salary"
      ],
      "metadata": {
        "id": "IKfXYcatpt-D"
      },
      "execution_count": 2,
      "outputs": []
    },
    {
      "cell_type": "markdown",
      "source": [
        "\n",
        "\n",
        "---\n",
        "\n"
      ],
      "metadata": {
        "id": "ed_Z2leFpsoF"
      }
    },
    {
      "cell_type": "markdown",
      "source": [
        "###Q3. Where and how should be class attributes created?"
      ],
      "metadata": {
        "id": "eFCQT21gqW_s"
      }
    },
    {
      "cell_type": "markdown",
      "source": [
        "###Ans.\n",
        "Class attributes or Class level Attributes belong to the class itself. these attributes will be shared by all the instances of the class. Hence these attributes are usually created/defined in the top of class definiation outside all methods."
      ],
      "metadata": {
        "id": "cdxfg0mcqc4J"
      }
    },
    {
      "cell_type": "code",
      "source": [
        "#Example:\n",
        "#In the below code we are defining a class attribute called no_of_wheels which will be shared by all the instances of the class Car\n",
        "\n",
        "class Car:\n",
        "    No_of_wheels = 4; # this is a class attribute\n",
        "    def __Init__(self,color,price,engine):\n",
        "        self.color = color # All this one instance attributes\n",
        "        self.price = price\n",
        "        self.engine = engine"
      ],
      "metadata": {
        "id": "wjdm35UOrVos"
      },
      "execution_count": 6,
      "outputs": []
    },
    {
      "cell_type": "markdown",
      "source": [
        "\n",
        "\n",
        "---\n",
        "\n"
      ],
      "metadata": {
        "id": "6iA7AoxxsW3s"
      }
    },
    {
      "cell_type": "markdown",
      "source": [
        "###Q4. Where and how are instance attributes created?"
      ],
      "metadata": {
        "id": "zPEIYUAMsZQE"
      }
    },
    {
      "cell_type": "markdown",
      "source": [
        "###Ans.\n",
        "Instances attributes are passed to the class when an object of the class is created. Unlike class attributes, instance attributes are not shared by all objects of the classs. Instead each object maintains its own copy of instance attributes at object level whereas incase of class attributes, all instances of class refer to a single copy. Usually instance attributes are defined within the init method of class."
      ],
      "metadata": {
        "id": "FO5HO2RwsdR7"
      }
    },
    {
      "cell_type": "code",
      "source": [
        "#Example:\n",
        "#In the below sample code we are creating a class Car with instance varaibles color, price, engine, which will be provided when an instance of class Car is created.\n",
        "\n",
        "class Car:\n",
        "  def __init__(self,color,price,engine):\n",
        "      self.color = color # all this are instance attributes\n",
        "      self.price = price\n",
        "      self.engine = engine\n",
        "\n",
        "tesla_ev = Car('Red',2000000, '\\electric')\n",
        "altos = Car('White',2100000,'petrol')\n",
        "\n",
        "#tesala_ev, altos are both the instances of class Car with different instance variables.\n"
      ],
      "metadata": {
        "id": "k3mcppc0sawE"
      },
      "execution_count": 9,
      "outputs": []
    },
    {
      "cell_type": "markdown",
      "source": [
        "\n",
        "\n",
        "---\n",
        "\n"
      ],
      "metadata": {
        "id": "7Rt25hd4u33W"
      }
    },
    {
      "cell_type": "markdown",
      "source": [
        "###Q5. What does the term &quot;self&quot; in a Python class mean?"
      ],
      "metadata": {
        "id": "_bs5VPx5u5Sv"
      }
    },
    {
      "cell_type": "markdown",
      "source": [
        "###Ans.\n",
        "self represents the instance of the class (it represents the object itself). By using the “self” keyword we can access the attributes and methods of the class with in the class in python. It binds the attributes with the given arguments.\n"
      ],
      "metadata": {
        "id": "98Q-GCguu-kr"
      }
    },
    {
      "cell_type": "code",
      "source": [
        "class Car:\n",
        "  def __init__(self,color,price,engine):\n",
        "      self.color = color # All this are instance attributes\n",
        "      self.price = price\n",
        "      self.engine = engine\n",
        "\n",
        "tesla_ev = Car('Red',2000000,'electric')\n",
        "altos = Car('White',2100000,'petrol')\n",
        "\n",
        "print(tesla_ev.__dict__)\n",
        "print(altos.__dict__)"
      ],
      "metadata": {
        "colab": {
          "base_uri": "https://localhost:8080/"
        },
        "id": "0JCmE1DQvEv8",
        "outputId": "45c7a374-9afa-4fc7-fa09-5161849e4c17"
      },
      "execution_count": 10,
      "outputs": [
        {
          "output_type": "stream",
          "name": "stdout",
          "text": [
            "{'color': 'Red', 'price': 2000000, 'engine': 'electric'}\n",
            "{'color': 'White', 'price': 2100000, 'engine': 'petrol'}\n"
          ]
        }
      ]
    },
    {
      "cell_type": "markdown",
      "source": [
        "\n",
        "\n",
        "---\n",
        "\n"
      ],
      "metadata": {
        "id": "z-AOIva-wxYz"
      }
    },
    {
      "cell_type": "markdown",
      "source": [
        "###Q6. How does a Python class handle operator overloading?"
      ],
      "metadata": {
        "id": "u7bzl6eYwyME"
      }
    },
    {
      "cell_type": "markdown",
      "source": [
        "###Ans.\n"
      ],
      "metadata": {
        "id": "UqyoD87hw1Oj"
      }
    },
    {
      "cell_type": "code",
      "source": [
        "Python Classes handle operator overloading by using special methods called Magic methods. These special methods usually begin and end with __ (double underscore)\n",
        "Example: Magic methods for basic arithmetic operators are:\n",
        "\n",
        "+ -> __add__()\n",
        "\n",
        "- -> __sub__()\n",
        "\n",
        "* -> __mul__()\n",
        "\n",
        "/ -> __div__()\n"
      ],
      "metadata": {
        "id": "L6jGjUFfw3Oj"
      },
      "execution_count": null,
      "outputs": []
    },
    {
      "cell_type": "code",
      "source": [
        "class Book:\n",
        "  def __init__(self,pages):\n",
        "      self.pages = pages\n",
        "  def __add__(self,other):\n",
        "      return self.pages + other.pages\n",
        "b1 = Book(600)\n",
        "b2 =Book(800)\n",
        "print(f'The total number of pages in 2 books is {b1+b2}')"
      ],
      "metadata": {
        "colab": {
          "base_uri": "https://localhost:8080/"
        },
        "id": "n8Kuk2RsxISt",
        "outputId": "87543fcf-620c-4273-96fc-bed0d4144e28"
      },
      "execution_count": 13,
      "outputs": [
        {
          "output_type": "stream",
          "name": "stdout",
          "text": [
            "The total number of pages in 2 books is 1400\n"
          ]
        }
      ]
    },
    {
      "cell_type": "markdown",
      "source": [
        "\n",
        "\n",
        "---\n",
        "\n"
      ],
      "metadata": {
        "id": "AtY-15zYx84V"
      }
    },
    {
      "cell_type": "markdown",
      "source": [
        "###Q7. When do you consider allowing operator overloading of your classes?"
      ],
      "metadata": {
        "id": "xaEKLV-Rx-Sk"
      }
    },
    {
      "cell_type": "markdown",
      "source": [
        "###Ans.\n",
        "We consider allowing operator overloading when we want to have different meaning for the same operator. For example operator + is used to add two integers as well as join two strings and merge two lists. It is achievable because ‘+’ operator is overloaded by int class and str class."
      ],
      "metadata": {
        "id": "xMcq15puyCJj"
      }
    },
    {
      "cell_type": "code",
      "source": [
        "# Python program to show use of\n",
        "# + operator for different purposes.\n",
        "\n",
        "print(1 + 2)\n",
        "\n",
        "# Concatenate two strings\n",
        "print(\"Prerit\"+\"Sharma\")\n",
        "\n",
        "# Product two numbers\n",
        "print(3 * 4)\n",
        "\n",
        "# Repeat the string\n",
        "print(\"Ineuron\"*4)"
      ],
      "metadata": {
        "colab": {
          "base_uri": "https://localhost:8080/"
        },
        "id": "swE5AwTnyIVT",
        "outputId": "376c6eca-bca6-4cd7-d8ed-f49a69d29e1b"
      },
      "execution_count": 14,
      "outputs": [
        {
          "output_type": "stream",
          "name": "stdout",
          "text": [
            "3\n",
            "PreritSharma\n",
            "12\n",
            "IneuronIneuronIneuronIneuron\n"
          ]
        }
      ]
    },
    {
      "cell_type": "markdown",
      "source": [
        "\n",
        "\n",
        "---\n",
        "\n"
      ],
      "metadata": {
        "id": "tjyT359sy8A0"
      }
    },
    {
      "cell_type": "markdown",
      "source": [
        "###Q8. What is the most popular form of operator overloading?"
      ],
      "metadata": {
        "id": "O3yM5hEyy8-L"
      }
    },
    {
      "cell_type": "markdown",
      "source": [
        "###Ans.\n",
        "The most popular form of operator overloading in python is by special methods called Magic methods. It usually begins and ends with double underscore ."
      ],
      "metadata": {
        "id": "GKc01ZY4zAs8"
      }
    },
    {
      "cell_type": "code",
      "source": [
        "class A:\n",
        "  def __init__(self,a):\n",
        "      self.a = a\n",
        "  def __add__(self,o):\n",
        "     return self.a+o.a\n",
        "\n",
        "obj1 = A(1)\n",
        "obj2 = A(2)\n",
        "obj3 = A('Prerit')\n",
        "obj4 = A('Sharma')\n",
        "print(f'Sum -> {obj1+obj2}')\n",
        "print(f'String Concatenation -> {obj3+obj4}')"
      ],
      "metadata": {
        "colab": {
          "base_uri": "https://localhost:8080/"
        },
        "id": "r-jMtcOrzGzT",
        "outputId": "4d779345-7f21-4af5-96d3-dd8bcfead57e"
      },
      "execution_count": 21,
      "outputs": [
        {
          "output_type": "stream",
          "name": "stdout",
          "text": [
            "Sum -> 3\n",
            "String Concatenation -> PreritSharma\n"
          ]
        }
      ]
    },
    {
      "cell_type": "markdown",
      "source": [
        "\n",
        "\n",
        "---\n",
        "\n"
      ],
      "metadata": {
        "id": "sA72DBi_0fhk"
      }
    },
    {
      "cell_type": "markdown",
      "source": [
        "###Q9. What are the two most important concepts to grasp in order to comprehend Python OOP code?"
      ],
      "metadata": {
        "id": "ceMmGeJo0gmL"
      }
    },
    {
      "cell_type": "markdown",
      "source": [
        "###Ans.\n",
        "Classes and objects are the two most important concepts to grasp in order to comprehend python OOP code as more formally objects are entities that represent instances of general abstract concept called class.\n",
        "\n",
        "Along with classes and objects the important concepts to grasp are:\n",
        "\n",
        "1.Inheritence\n",
        "\n",
        "2.Abstraction\n",
        "\n",
        "3.Polymorphism\n",
        "\n",
        "4.Encapsulation\n"
      ],
      "metadata": {
        "id": "biJIPDrF0lk7"
      }
    },
    {
      "cell_type": "markdown",
      "source": [
        "-----------------------------------------------------End-----------------------------------------------------------"
      ],
      "metadata": {
        "id": "Sahuy2E20ssr"
      }
    }
  ]
}