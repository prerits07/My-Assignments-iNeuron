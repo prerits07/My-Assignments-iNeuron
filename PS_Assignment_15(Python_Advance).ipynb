{
  "nbformat": 4,
  "nbformat_minor": 0,
  "metadata": {
    "colab": {
      "provenance": []
    },
    "kernelspec": {
      "name": "python3",
      "display_name": "Python 3"
    },
    "language_info": {
      "name": "python"
    }
  },
  "cells": [
    {
      "cell_type": "markdown",
      "source": [
        "### Python (Advance) Assignment No. 15\n",
        "\n",
        "1 Batch - Full Stack Data Science Bootcamp 2.0\n",
        "\n",
        "2 Name - **Prerit Sharma**\n",
        "\n",
        "3 Email ID - **praritsharma7@gmail.com**"
      ],
      "metadata": {
        "id": "Xu8xvvqKAxhT"
      }
    },
    {
      "cell_type": "markdown",
      "source": [
        "\n",
        "\n",
        "---\n",
        "\n"
      ],
      "metadata": {
        "id": "q7AebpXXA4uN"
      }
    },
    {
      "cell_type": "markdown",
      "source": [
        "###Q1. What are the new features added in Python 3.8 version?"
      ],
      "metadata": {
        "id": "wARDgc60A5xM"
      }
    },
    {
      "cell_type": "markdown",
      "source": [
        "###Ans.\n",
        "Walrus Operator: This operator is used to assign and return a value in the same expression. This removes the need for initializing the variable upfront. The major benefit of this is it saves some lines of code. It is also known as The Walrus Operator due to its similarity to the eyes and tusks of a walrus.\n",
        "\n",
        "yield and return statements do not require parentheses to return multiple values.\n",
        "\n",
        "Reversed works with a dictionary. The built-in method reversed() can be used for accessing the elements in the reverse order of insertion\n",
        "\n",
        "Dict comprehensions: have been modified so that the key is computed first and the value second.\n",
        "\n",
        "importlib_metadata is a new library added in the Python’s standard utility modules, that provides an API for accessing an installed package’s metadata, such as its entry points or its top-level name.\n",
        "\n",
        "f-strings now support = , to make string interpolation easy. Python 3.8 allows the use of the above-discussed assignment operator and equal sign (=) inside the f-strings.\n",
        "\n",
        "In the three-argument form of pow(), when the exponent is -1, it calculates the modular multiplicative inverse of the given value\n",
        "\n",
        "The csv.DictReader now returns instances of dictionary instead of a collections.OrderedDict.\n",
        "\n",
        "If you miss a comma in your code such as a = [(1, 2) (3, 4)], instead of throwing TypeError, it displays an informative Syntax warning."
      ],
      "metadata": {
        "id": "OEVdFqD7BYFn"
      }
    },
    {
      "cell_type": "code",
      "source": [
        "# Example of Walrus Operator\n",
        "if (sum := 10 + 5) > 10: # its always recommended to use paranthesis with walrus operator\n",
        "    print(sum) #return 15\n",
        "\n",
        "# Example of yield and return\n",
        "def hello():\n",
        "    return 'Hello','Good Morning'\n",
        "print(hello())\n",
        "def count():\n",
        "    for i in range(5):\n",
        "        yield i,i**2\n",
        "for ele in count():\n",
        "    print(ele, end=\" \")\n",
        "print()\n",
        "\n",
        "# Example of Reversed Support for dict\n",
        "t_dict = {\"Name\":\"Prerit\",\"Role\":\"Manager\"}\n",
        "for ele in reversed(t_dict):\n",
        "    print(f'{ele}:\"{t_dict[ele]}\"')\n",
        "\n",
        "# Example of using = in F-strings\n",
        "len_string = len(\"Ineuron Full Stack Data Science 2.0\")\n",
        "print(f'The length of string is {len_string = }')\n",
        "\n",
        "# Example of Informative syntax instead of synatx error while missing comma.\n",
        "r_list = [(1,2) (3,4)]"
      ],
      "metadata": {
        "colab": {
          "base_uri": "https://localhost:8080/",
          "height": 384
        },
        "id": "K0MH_VWOB9lB",
        "outputId": "5b6e78a4-be78-44f0-8230-fec1ce2b99d1"
      },
      "execution_count": 3,
      "outputs": [
        {
          "output_type": "stream",
          "name": "stdout",
          "text": [
            "15\n",
            "('Hello', 'Good Morning')\n",
            "(0, 0) (1, 1) (2, 4) (3, 9) (4, 16) \n",
            "Role:\"Manager\"\n",
            "Name:\"Prerit\"\n",
            "The length of string is len_string = 31\n"
          ]
        },
        {
          "output_type": "stream",
          "name": "stderr",
          "text": [
            "<>:26: SyntaxWarning: 'tuple' object is not callable; perhaps you missed a comma?\n",
            "<>:26: SyntaxWarning: 'tuple' object is not callable; perhaps you missed a comma?\n",
            "<ipython-input-3-cf17083c6024>:26: SyntaxWarning: 'tuple' object is not callable; perhaps you missed a comma?\n",
            "  r_list = [(1,2) (3,4)]\n"
          ]
        },
        {
          "output_type": "error",
          "ename": "TypeError",
          "evalue": "ignored",
          "traceback": [
            "\u001b[0;31m---------------------------------------------------------------------------\u001b[0m",
            "\u001b[0;31mTypeError\u001b[0m                                 Traceback (most recent call last)",
            "\u001b[0;32m<ipython-input-3-cf17083c6024>\u001b[0m in \u001b[0;36m<cell line: 26>\u001b[0;34m()\u001b[0m\n\u001b[1;32m     24\u001b[0m \u001b[0;34m\u001b[0m\u001b[0m\n\u001b[1;32m     25\u001b[0m \u001b[0;31m# Example of Informative syntax instead of synatx error while missing comma.\u001b[0m\u001b[0;34m\u001b[0m\u001b[0;34m\u001b[0m\u001b[0m\n\u001b[0;32m---> 26\u001b[0;31m \u001b[0mr_list\u001b[0m \u001b[0;34m=\u001b[0m \u001b[0;34m[\u001b[0m\u001b[0;34m(\u001b[0m\u001b[0;36m1\u001b[0m\u001b[0;34m,\u001b[0m\u001b[0;36m2\u001b[0m\u001b[0;34m)\u001b[0m \u001b[0;34m(\u001b[0m\u001b[0;36m3\u001b[0m\u001b[0;34m,\u001b[0m\u001b[0;36m4\u001b[0m\u001b[0;34m)\u001b[0m\u001b[0;34m]\u001b[0m\u001b[0;34m\u001b[0m\u001b[0;34m\u001b[0m\u001b[0m\n\u001b[0m",
            "\u001b[0;31mTypeError\u001b[0m: 'tuple' object is not callable"
          ]
        }
      ]
    },
    {
      "cell_type": "markdown",
      "source": [
        "\n",
        "\n",
        "---\n",
        "\n"
      ],
      "metadata": {
        "id": "VHrHWx4kBt1p"
      }
    },
    {
      "cell_type": "markdown",
      "source": [
        "###Q2. What is monkey patching in Python?"
      ],
      "metadata": {
        "id": "ffhP2u3aBuw4"
      }
    },
    {
      "cell_type": "markdown",
      "source": [
        "###Ans.In Python, the term monkey patch refers to making dynamic (or run-time) modifications to a class or module. In Python, we can actually change the behavior of code at run-time."
      ],
      "metadata": {
        "id": "rSj0NjVsB6gg"
      }
    },
    {
      "cell_type": "code",
      "source": [
        "class A:\n",
        "    def func(self):\n",
        "        print(\"func() is being called\")\n",
        "\n",
        "def monkey_f(self):\n",
        "    print(\"monkey_f() is being called\")\n",
        "\n",
        "A.func = monkey_f\n",
        "some_object = A()\n",
        "some_object.func()"
      ],
      "metadata": {
        "colab": {
          "base_uri": "https://localhost:8080/"
        },
        "id": "VxUy_t7EC-Oo",
        "outputId": "ce0d0c60-8d74-4885-d358-a89cb717c26d"
      },
      "execution_count": 4,
      "outputs": [
        {
          "output_type": "stream",
          "name": "stdout",
          "text": [
            "monkey_f() is being called\n"
          ]
        }
      ]
    },
    {
      "cell_type": "markdown",
      "source": [
        "\n",
        "\n",
        "---\n",
        "\n"
      ],
      "metadata": {
        "id": "SJYWc3A4Bu3Z"
      }
    },
    {
      "cell_type": "markdown",
      "source": [
        "###Q3. What is the difference between a shallow copy and deep copy?"
      ],
      "metadata": {
        "id": "RkVefAy5DOUs"
      }
    },
    {
      "cell_type": "markdown",
      "source": [
        "###Ans.When an object is copied using copy(), it is called shallow copy as changes made in copied object will also make corresponding changes in original object, because both the objects will be referencing same address location.\n",
        "\n",
        "###When an object is copied using deepcopy(), it is called deep copy as changes made in copied object will not make corresponding changes in original object, because both the objects will not be referencing same address location."
      ],
      "metadata": {
        "id": "vkFo1KZRDTJ-"
      }
    },
    {
      "cell_type": "code",
      "source": [
        "from copy import deepcopy, copy\n",
        "l_one = [1,2,[3,4],5,6]\n",
        "l_two = deepcopy(l_one)\n",
        "l_three = l_one\n",
        "print(f'Original Elements of each List\\n{l_one}\\n{l_two}\\n{l_three}')\n",
        "l_two[0] = 10\n",
        "l_three[-1] = 20\n",
        "print(f'New Elements of each List\\n{l_one}\\n{l_two}\\n{l_three}')"
      ],
      "metadata": {
        "colab": {
          "base_uri": "https://localhost:8080/"
        },
        "id": "LsfsIb3bDgRM",
        "outputId": "fae47ee7-433d-46b0-ee2f-cd1c049b8f11"
      },
      "execution_count": 5,
      "outputs": [
        {
          "output_type": "stream",
          "name": "stdout",
          "text": [
            "Original Elements of each List\n",
            "[1, 2, [3, 4], 5, 6]\n",
            "[1, 2, [3, 4], 5, 6]\n",
            "[1, 2, [3, 4], 5, 6]\n",
            "New Elements of each List\n",
            "[1, 2, [3, 4], 5, 20]\n",
            "[10, 2, [3, 4], 5, 6]\n",
            "[1, 2, [3, 4], 5, 20]\n"
          ]
        }
      ]
    },
    {
      "cell_type": "markdown",
      "source": [
        "\n",
        "\n",
        "---\n",
        "\n"
      ],
      "metadata": {
        "id": "Gnj9KRKCD74P"
      }
    },
    {
      "cell_type": "markdown",
      "source": [
        "###Q4. What is the maximum possible length of an identifier?"
      ],
      "metadata": {
        "id": "3I_baGpoD9GD"
      }
    },
    {
      "cell_type": "markdown",
      "source": [
        "###Ans.In Python, the highest possible length of an identifier is 79 characters. Python is a high level programming language. It’s also a complex form and a collector of waste.\n",
        "\n",
        "1.Python, particularly when combined with identifiers, is case-sensitive.\n",
        "\n",
        "2.When writing or using identifiers in Python, it has a maximum of 79 characters.\n",
        "\n",
        "3.Unlikely, Python gives the identifiers unlimited length.\n",
        "\n",
        "4.However, the layout of PEP-8 prevents the user from breaking the rules and includes a 79-character limit."
      ],
      "metadata": {
        "id": "wcNHzCxvEATp"
      }
    },
    {
      "cell_type": "markdown",
      "source": [
        "\n",
        "\n",
        "---\n",
        "\n"
      ],
      "metadata": {
        "id": "GrjGPxEgEJ-o"
      }
    },
    {
      "cell_type": "markdown",
      "source": [
        "###Q5. What is generator comprehension?"
      ],
      "metadata": {
        "id": "LoQ-5K97ESL0"
      }
    },
    {
      "cell_type": "markdown",
      "source": [
        "###Ans.A generator comprehension is a single-line specification for defining a generator in Python.\n",
        "\n",
        "1.It is absolutely essential to learn this syntax in order to write simple and readable code.\n",
        "\n",
        "2.Generator comprehension uses round bracket unlike square bracket in list comprehension.\n",
        "\n",
        "3.The generator yields one item at a time and generates item only when in demand. Whereas, in a list comprehension, Python reserves memory for the whole list. Thus we can say that the generator expressions are memory efficient than the lists."
      ],
      "metadata": {
        "id": "LoNpGWafELTe"
      }
    },
    {
      "cell_type": "code",
      "source": [
        "in_list = [x for x in range(10)] # List Comprehension\n",
        "print(in_list)\n",
        "out_gen = (x for x in in_list if x%2 == 0) # Generator Comprehension\n",
        "print(out_gen) # Returns a Generator Object\n",
        "for ele in out_gen:\n",
        "    print(ele, end=\" \")"
      ],
      "metadata": {
        "colab": {
          "base_uri": "https://localhost:8080/"
        },
        "id": "vc26gm0TEfCJ",
        "outputId": "43ad6e89-8796-4137-b763-6246049999a6"
      },
      "execution_count": 6,
      "outputs": [
        {
          "output_type": "stream",
          "name": "stdout",
          "text": [
            "[0, 1, 2, 3, 4, 5, 6, 7, 8, 9]\n",
            "<generator object <genexpr> at 0x7de9671e9070>\n",
            "0 2 4 6 8 "
          ]
        }
      ]
    },
    {
      "cell_type": "markdown",
      "source": [
        "--------------------------------------------------------------------------------------------------------------------------End--------------------------------------------------------------------------------------------------------"
      ],
      "metadata": {
        "id": "AvdP8st9Ek2V"
      }
    }
  ]
}