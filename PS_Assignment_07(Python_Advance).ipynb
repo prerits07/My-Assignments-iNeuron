{
  "nbformat": 4,
  "nbformat_minor": 0,
  "metadata": {
    "colab": {
      "provenance": []
    },
    "kernelspec": {
      "name": "python3",
      "display_name": "Python 3"
    },
    "language_info": {
      "name": "python"
    }
  },
  "cells": [
    {
      "cell_type": "markdown",
      "source": [
        "### Python (Advance) Assignment No. 07\n",
        "\n",
        "1 Batch - Full Stack Data Science Bootcamp 2.0\n",
        "\n",
        "2 Name - **Prerit Sharma**\n",
        "\n",
        "3 Email ID - **praritsharma7@gmail.com**\n"
      ],
      "metadata": {
        "id": "QdDmFAJY41y-"
      }
    },
    {
      "cell_type": "markdown",
      "source": [
        "\n",
        "\n",
        "---\n",
        "\n"
      ],
      "metadata": {
        "id": "lHjkn2pI4-Mk"
      }
    },
    {
      "cell_type": "markdown",
      "source": [
        "###Q1. What is the purpose of the try statement?"
      ],
      "metadata": {
        "id": "uLXMPnkT4-uT"
      }
    },
    {
      "cell_type": "markdown",
      "source": [
        "###Ans.\n",
        "try statement is used for exception handling in python. It consists of a block of risky statements which might cause an exception during runtime. If code within try block raises exception, then the exception will be reverted to the corresponding except block when multiple except blocks are present, else it will be reverted to the default except block. In short, try and except in union avoid programs from crashing during runtime due to exceptions."
      ],
      "metadata": {
        "id": "xKSy5PRm5CWc"
      }
    },
    {
      "cell_type": "code",
      "source": [
        "try:\n",
        "  print(30/0)\n",
        "except ZeroDivisionError:\n",
        "  print('Division by zero is not Possible')"
      ],
      "metadata": {
        "colab": {
          "base_uri": "https://localhost:8080/"
        },
        "id": "0F34DFqz59xd",
        "outputId": "2b2c561e-d7b0-40dd-d457-1e23e7218e16"
      },
      "execution_count": 2,
      "outputs": [
        {
          "output_type": "stream",
          "name": "stdout",
          "text": [
            "Division by zero is not Possible\n"
          ]
        }
      ]
    },
    {
      "cell_type": "markdown",
      "source": [
        "\n",
        "\n",
        "---\n",
        "\n"
      ],
      "metadata": {
        "id": "ElG4E7PQ6kRe"
      }
    },
    {
      "cell_type": "markdown",
      "source": [
        "###Q2. What are the two most popular try statement variations?"
      ],
      "metadata": {
        "id": "5tBl0uUM6lMV"
      }
    },
    {
      "cell_type": "markdown",
      "source": [
        "###Ans.\n",
        "The Popular try statement variations are:\n",
        "\n",
        "1.try,except\n",
        "\n",
        "2.try,except,finally\n",
        "\n",
        "3.try,except,finally,else\n",
        "\n",
        "The try block is used to check code for exceptions during runtime. i.e. code inside try block will execute completely when there is no error in the program where as the code inside except block will execute whenever the program encounters some error in the preceeding try block.\n",
        "\n",
        "Where as the code enters the else block if and only if the try clause does not raise an exception. The code in the finally block will execute irrespective of exception."
      ],
      "metadata": {
        "id": "hFNigdhV6oRM"
      }
    },
    {
      "cell_type": "markdown",
      "source": [
        "\n",
        "\n",
        "---\n",
        "\n"
      ],
      "metadata": {
        "id": "ON0jYPZ26x6M"
      }
    },
    {
      "cell_type": "markdown",
      "source": [
        "###Q3. What is the purpose of the raise statement?"
      ],
      "metadata": {
        "id": "hF0TJwXA6y3U"
      }
    },
    {
      "cell_type": "markdown",
      "source": [
        "###Ans.\n",
        "raise statement is used to trigger an exception explicitly, if a certain condition is not as per requirement of programmer. raise statement helps in triggering exception as per programming logic."
      ],
      "metadata": {
        "id": "v9dmSTIJ6248"
      }
    },
    {
      "cell_type": "markdown",
      "source": [
        "\n",
        "\n",
        "---\n",
        "\n"
      ],
      "metadata": {
        "id": "fBZPEk2a69BU"
      }
    },
    {
      "cell_type": "markdown",
      "source": [
        "###Q4. What does the assert statement do, and what other statement is it like?"
      ],
      "metadata": {
        "id": "03ylqR7169o9"
      }
    },
    {
      "cell_type": "markdown",
      "source": [
        "###Ans.\n",
        "There are few assertions that programmer always want to be true to avoid code failure. This type of requirement is fulfilled by assert statement. This statement takes a boolean condition output of which is True which in turn helps Further Program Execute. If output of assert statement is False, it raises an Assertion Error."
      ],
      "metadata": {
        "id": "hynfspDZ7BEz"
      }
    },
    {
      "cell_type": "code",
      "source": [
        "assert(2 == 10), f'this is not a valid statement'"
      ],
      "metadata": {
        "colab": {
          "base_uri": "https://localhost:8080/",
          "height": 175
        },
        "id": "As7EsdNC7JBb",
        "outputId": "49f3280f-2a12-4fae-8682-8b136527f7fb"
      },
      "execution_count": 3,
      "outputs": [
        {
          "output_type": "error",
          "ename": "AssertionError",
          "evalue": "ignored",
          "traceback": [
            "\u001b[0;31m---------------------------------------------------------------------------\u001b[0m",
            "\u001b[0;31mAssertionError\u001b[0m                            Traceback (most recent call last)",
            "\u001b[0;32m<ipython-input-3-32a4b0eccebf>\u001b[0m in \u001b[0;36m<cell line: 1>\u001b[0;34m()\u001b[0m\n\u001b[0;32m----> 1\u001b[0;31m \u001b[0;32massert\u001b[0m\u001b[0;34m(\u001b[0m\u001b[0;36m2\u001b[0m \u001b[0;34m==\u001b[0m \u001b[0;36m10\u001b[0m\u001b[0;34m)\u001b[0m\u001b[0;34m,\u001b[0m \u001b[0;34mf'this is not a valid statement'\u001b[0m\u001b[0;34m\u001b[0m\u001b[0;34m\u001b[0m\u001b[0m\n\u001b[0m",
            "\u001b[0;31mAssertionError\u001b[0m: this is not a valid statement"
          ]
        }
      ]
    },
    {
      "cell_type": "markdown",
      "source": [
        "\n",
        "\n",
        "---\n",
        "\n"
      ],
      "metadata": {
        "id": "BxZV1eqE7Hji"
      }
    },
    {
      "cell_type": "markdown",
      "source": [
        "###Q5. What is the purpose of the with/as argument, and what other statement is it like?"
      ],
      "metadata": {
        "id": "kgHkp25D7OYE"
      }
    },
    {
      "cell_type": "markdown",
      "source": [
        "###Ans.\n",
        "with/as statement simplifies use of file handling in python. When we use a with statement for file reading, there is no need for programmer to explicitly take care of activities like resource deallocation and file closing by using file.close() method. with statement itself ensures proper acquisition and release of resources. This avoids triggering of exceptions if the file closing is unknowingly forgotten in the code execution.\n",
        "\n",
        "with open('sample_file.txt','w') as file:\n",
        "\n",
        "\n"
      ],
      "metadata": {
        "id": "ue-OLF-A7RaT"
      }
    },
    {
      "cell_type": "code",
      "source": [
        "file.write('Hello World')"
      ],
      "metadata": {
        "id": "1W7ZLyCX7isU"
      },
      "execution_count": null,
      "outputs": []
    },
    {
      "cell_type": "markdown",
      "source": [
        "-------------------------------------------------------------------------------End-----------------------------------------------------------------------------"
      ],
      "metadata": {
        "id": "j89YBsyq7dzV"
      }
    }
  ]
}