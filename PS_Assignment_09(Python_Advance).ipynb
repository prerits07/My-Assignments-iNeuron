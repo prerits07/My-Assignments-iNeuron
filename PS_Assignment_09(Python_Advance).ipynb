{
  "nbformat": 4,
  "nbformat_minor": 0,
  "metadata": {
    "colab": {
      "provenance": []
    },
    "kernelspec": {
      "name": "python3",
      "display_name": "Python 3"
    },
    "language_info": {
      "name": "python"
    }
  },
  "cells": [
    {
      "cell_type": "markdown",
      "source": [
        "### Python (Advance) Assignment No. 09\n",
        "\n",
        "1 Batch - Full Stack Data Science Bootcamp 2.0\n",
        "\n",
        "2 Name - **Prerit Sharma**\n",
        "\n",
        "3 Email ID - **praritsharma7@gmail.com**"
      ],
      "metadata": {
        "id": "qlStTfZZ0cpe"
      }
    },
    {
      "cell_type": "markdown",
      "source": [
        "\n",
        "\n",
        "---\n",
        "\n"
      ],
      "metadata": {
        "id": "BTOEC9Dj0kE-"
      }
    },
    {
      "cell_type": "markdown",
      "source": [
        "###Q1. In Python 3.X, what are the names and functions of string object types?"
      ],
      "metadata": {
        "id": "mO49eeKv0k0-"
      }
    },
    {
      "cell_type": "markdown",
      "source": [
        "###Ans."
      ],
      "metadata": {
        "id": "_FXk_Pvz0pHY"
      }
    },
    {
      "cell_type": "code",
      "source": [
        "The following are the names and functions of string object types in Python 3.X\n",
        "\n",
        "<stirng>.isdecimal() -> Returns True if all characters in a string are decimal.\n",
        "\n",
        "<string>.isalnum() -> Returns True if all characters in the string are AlphaNumeric.\n",
        "\n",
        "<string>.istitle() -> Returns True if first character in a string is in Uppercase.\n",
        "\n",
        "<string>.partition(<sub_string>) -> Splits string at first occurance of sub string and returns a tuple of 3 elements.\n",
        "\n",
        "<string>.rpartition(<sub_string>) -> Splits string at last occurance of sub string and returns a tuple of 3 elements.\n",
        "\n",
        "<string>.isidentifier() -> Returns True if give string is a valid identifier name.\n",
        "\n",
        "len(<string>) -> Returns the length of the given string.\n",
        "\n",
        "<string>.index(<sub_string>) -> Returns the lowest index of substring if substring is found in the string.\n",
        "\n",
        "<string>.rindex(<sub_string>) -> Returns the highest index of substring if substring is found in the string.\n",
        "\n",
        "max(<string>) -> Returns the highest Alphabetical Character in the string as per ASCII.\n",
        "\n",
        "min(<string>) -> Returns the lowest Alphabetical Character in the string as per ASCII.\n",
        "\n",
        "<string>.splitlines() -> Returns a list of lines in the string.\n",
        "\n",
        "<string>.capitalize() -> Returns the string with first character capitalized.\n",
        "\n",
        "<string>.upper() -> Returns the string with all characters in uppercase.\n",
        "\n",
        "<string>.lower() -> Returns the string with all characters in lowercase\n",
        "\n",
        "<string>.casefold() -> Returns the string in lowercase which can be used for caseless comparisions.\n",
        "\n",
        "<string>.expandtabs(no_of_spaces) -> Replaces tabs in a string with specified no of spaces default is 8\n",
        "\n",
        "<string>.find(<sub_string>) -> Returns lowest index of substring if substring is found in the string else returns -1.\n",
        "<string>.rfind(<sub_string>) -> Returns highest index of substring if substring is found in the string else returns -1.\n",
        "\n",
        "<string>.count(<char>) -> Returns the no of occurances of the char in the given string.\n",
        "\n",
        "<string>.split(<sep>) -> Returns list of words seperated by given sep else seperated by whitespace.\n",
        "\n",
        "<string>.rsplit(<sep>) -> Returns list of words seperated by given sep else seperated by whitespace scanning from end.\n",
        "\n",
        "<string>.lstrip() -> Returns a copy of where leading whitespaces are removed.\n",
        "\n",
        "<string>.rstrip() -> Returns a copy of where trailed whitespaces are removed.\n",
        "\n",
        "<string>.strip() -> Returns a copy of where both leading and trailing whitespaces are removed.\n",
        "\n",
        "<string>.swapcase() -> Swaps lowercase characters with uppercase and vice versa.\n",
        "\n",
        "<sep>.join(<list>) -> Concatenates a list or tuple of words with intervening occuernces of sep.\n",
        "\n",
        "<string>.translate(<mapping_table>) -> translates the characters using table.\n",
        "\n",
        "<string>.maketrans(<dict>) -> Creating a mapping translation tbale usable for <string>.translate(<mapping_table>)\n",
        "\n",
        "<string>.replace(<char_1>,<char_2>) -> Replace all occurances of char_1 with char_2 in string.\n",
        "<string>.encode() -> Encodes string into any encoding supported by python. Default encoding is UTF-8.\n",
        "\n",
        "<string>.ljust(<no_of_spaces>) -> Left-justify in a field of given width.\n",
        "\n",
        "<string>.rjust(<no_of_spaces>) -> Right-justify in a field of given width.\n",
        "\n",
        "<string>.center(<no_of_spaces>) -> Center-justify in a field of given width.\n",
        "\n",
        "<stirng>.zfill(<length>) -> Zfill adds zeros to the begining of string until the specified length is reached."
      ],
      "metadata": {
        "id": "kZQVNypJsiCK"
      },
      "execution_count": null,
      "outputs": []
    },
    {
      "cell_type": "code",
      "source": [
        "print('1234567890'.isdecimal())\n",
        "print('IneuronFullStackDS'.isalnum())\n",
        "print('Ineuron Full Stack Data science Bootcamp 2.0'.istitle())\n",
        "print('\"I could eat mango all day, mango are my favorite fruit\"'.partition('mango'))\n",
        "print('\"I could eat mango all day, mango are my favorite fruit\"'.rpartition('mango'))\n",
        "print('GeeksForFreaks'.isidentifier())\n",
        "print(len('Linear Regression'))\n",
        "print('Ineuron'.index('n'))\n",
        "print('Ineuron'.rindex('n'))\n",
        "print(max('Data_Scientist'))\n",
        "print(min('Data_Analyst'))\n",
        "print('Ineuron \\n Full Stack \\n Data Science Bootcamp 2.0 \\n Course '.splitlines())\n",
        "print('finding nemo'.capitalize())\n",
        "print('datapipelines'.upper())\n",
        "print('MLOPS'.lower())\n",
        "print('Doloris Jane Umbridge'.casefold())\n",
        "print('Data science\\tData Analyst'.expandtabs(8))\n",
        "print('Ineuron'.find('n'))\n",
        "print('Ineuron'.rfind('n'))\n",
        "print('Transformers'.count('s'))\n",
        "print('ineuron'.split('n'))\n",
        "print('ineuron'.rsplit('n'))\n",
        "print(' EDA '.lstrip())\n",
        "print(' EDA '.rstrip())\n",
        "print(' EDA '.strip())\n",
        "print('Exploratory Data Analysis'.swapcase())\n",
        "print('_'.join(['Iris','flower','Dataset']))\n",
        "\n",
        "mydict = {83:  80}\n",
        "print(\"Hello Ram!\".translate(mydict))\n",
        "\n",
        "txt = \"Hello Eam!\"\n",
        "mytable = txt.maketrans(\"E\", \"R\")\n",
        "print(txt.translate(mytable))\n",
        "\n",
        "print('Ineuron'.replace('n','2'))\n",
        "print('Natural Language Processing'.encode())\n",
        "print('Nemo'.ljust(10))\n",
        "print('Nemo'.rjust(10))\n",
        "print('Nemo'.center(10))\n",
        "print('Hello'.zfill(10))"
      ],
      "metadata": {
        "colab": {
          "base_uri": "https://localhost:8080/"
        },
        "id": "2QI7mK9VstMT",
        "outputId": "09c7cd07-3975-4d4a-8b2e-60e169afbff3"
      },
      "execution_count": null,
      "outputs": [
        {
          "output_type": "stream",
          "name": "stdout",
          "text": [
            "True\n",
            "True\n",
            "False\n",
            "('\"I could eat ', 'mango', ' all day, mango are my favorite fruit\"')\n",
            "('\"I could eat mango all day, ', 'mango', ' are my favorite fruit\"')\n",
            "True\n",
            "17\n",
            "1\n",
            "6\n",
            "t\n",
            "A\n",
            "['Ineuron ', ' Full Stack ', ' Data Science Bootcamp 2.0 ', ' Course ']\n",
            "Finding nemo\n",
            "DATAPIPELINES\n",
            "mlops\n",
            "doloris jane umbridge\n",
            "Data science    Data Analyst\n",
            "1\n",
            "6\n",
            "2\n",
            "['i', 'euro', '']\n",
            "['i', 'euro', '']\n",
            "EDA \n",
            " EDA\n",
            "EDA\n",
            "eXPLORATORY dATA aNALYSIS\n",
            "Iris_flower_Dataset\n",
            "Hello Ram!\n",
            "Hello Ram!\n",
            "I2euro2\n",
            "b'Natural Language Processing'\n",
            "Nemo      \n",
            "      Nemo\n",
            "   Nemo   \n",
            "00000Hello\n"
          ]
        }
      ]
    },
    {
      "cell_type": "markdown",
      "source": [
        "\n",
        "\n",
        "---\n",
        "\n"
      ],
      "metadata": {
        "id": "k4Mz66twvgS_"
      }
    },
    {
      "cell_type": "markdown",
      "source": [
        "###Q2. How do the string forms in Python 3.X vary in terms of operations?"
      ],
      "metadata": {
        "id": "c4sloxC_vg-7"
      }
    },
    {
      "cell_type": "markdown",
      "source": [
        "###Ans.\n",
        "In Python3 default format of strings is Unicode Whereas in Pyton2 we need to explicitly mention Unicode value using you."
      ],
      "metadata": {
        "id": "m50htWqTvq_E"
      }
    },
    {
      "cell_type": "markdown",
      "source": [
        "\n",
        "\n",
        "---\n",
        "\n"
      ],
      "metadata": {
        "id": "jRUr15Uav2bO"
      }
    },
    {
      "cell_type": "markdown",
      "source": [
        "###Q3. In 3.X, how do you put non-ASCII Unicode characters in a string?"
      ],
      "metadata": {
        "id": "hAXcXWTwv3Cs"
      }
    },
    {
      "cell_type": "markdown",
      "source": [
        "###Ans.\n",
        "In Python 3.x unidecode() method from unidecode library can be used to put non-ASCII Unicode Characters in a string."
      ],
      "metadata": {
        "id": "Lgb6HY8mv6qs"
      }
    },
    {
      "cell_type": "code",
      "source": [
        "!pip install unicode"
      ],
      "metadata": {
        "colab": {
          "base_uri": "https://localhost:8080/"
        },
        "id": "jbSzkKJcwTXj",
        "outputId": "b9f74dbf-a117-4b88-bd86-44537271ff26"
      },
      "execution_count": null,
      "outputs": [
        {
          "output_type": "stream",
          "name": "stdout",
          "text": [
            "Requirement already satisfied: unicode in /usr/local/lib/python3.10/dist-packages (2.9)\n"
          ]
        }
      ]
    },
    {
      "cell_type": "code",
      "source": [
        "from unidecode import unidecode\n",
        "print(unidecode(u'ko\\u017eu\\u0161\\u010dek'))\n",
        "print(unidecode(\"आप नीचे अपनी भाषा और इनपुट उपकरण चुनें और लिखना आरंभ करें\"))\n",
        "print(unidecode(\"谢谢你\"))\n",
        "print(unidecode(\"ありがとう。\"))\n",
        "print(unidecode(\"улыбаться Владимир Путин\"))"
      ],
      "metadata": {
        "colab": {
          "base_uri": "https://localhost:8080/",
          "height": 384
        },
        "id": "grmLRUSCwADj",
        "outputId": "a8359728-8da1-4b02-b6de-96cfa69b76b6"
      },
      "execution_count": null,
      "outputs": [
        {
          "output_type": "error",
          "ename": "ModuleNotFoundError",
          "evalue": "ignored",
          "traceback": [
            "\u001b[0;31m---------------------------------------------------------------------------\u001b[0m",
            "\u001b[0;31mModuleNotFoundError\u001b[0m                       Traceback (most recent call last)",
            "\u001b[0;32m<ipython-input-12-f767477ae683>\u001b[0m in \u001b[0;36m<cell line: 1>\u001b[0;34m()\u001b[0m\n\u001b[0;32m----> 1\u001b[0;31m \u001b[0;32mfrom\u001b[0m \u001b[0munidecode\u001b[0m \u001b[0;32mimport\u001b[0m \u001b[0munidecode\u001b[0m\u001b[0;34m\u001b[0m\u001b[0;34m\u001b[0m\u001b[0m\n\u001b[0m\u001b[1;32m      2\u001b[0m \u001b[0mprint\u001b[0m\u001b[0;34m(\u001b[0m\u001b[0munidecode\u001b[0m\u001b[0;34m(\u001b[0m\u001b[0;34mu'ko\\u017eu\\u0161\\u010dek'\u001b[0m\u001b[0;34m)\u001b[0m\u001b[0;34m)\u001b[0m\u001b[0;34m\u001b[0m\u001b[0;34m\u001b[0m\u001b[0m\n\u001b[1;32m      3\u001b[0m \u001b[0mprint\u001b[0m\u001b[0;34m(\u001b[0m\u001b[0munidecode\u001b[0m\u001b[0;34m(\u001b[0m\u001b[0;34m\"आप नीचे अपनी भाषा और इनपुट उपकरण चुनें और लिखना आरंभ करें\"\u001b[0m\u001b[0;34m)\u001b[0m\u001b[0;34m)\u001b[0m\u001b[0;34m\u001b[0m\u001b[0;34m\u001b[0m\u001b[0m\n\u001b[1;32m      4\u001b[0m \u001b[0mprint\u001b[0m\u001b[0;34m(\u001b[0m\u001b[0munidecode\u001b[0m\u001b[0;34m(\u001b[0m\u001b[0;34m\"谢谢你\"\u001b[0m\u001b[0;34m)\u001b[0m\u001b[0;34m)\u001b[0m\u001b[0;34m\u001b[0m\u001b[0;34m\u001b[0m\u001b[0m\n\u001b[1;32m      5\u001b[0m \u001b[0mprint\u001b[0m\u001b[0;34m(\u001b[0m\u001b[0munidecode\u001b[0m\u001b[0;34m(\u001b[0m\u001b[0;34m\"ありがとう。\"\u001b[0m\u001b[0;34m)\u001b[0m\u001b[0;34m)\u001b[0m\u001b[0;34m\u001b[0m\u001b[0;34m\u001b[0m\u001b[0m\n",
            "\u001b[0;31mModuleNotFoundError\u001b[0m: No module named 'unidecode'",
            "",
            "\u001b[0;31m---------------------------------------------------------------------------\u001b[0;32m\nNOTE: If your import is failing due to a missing package, you can\nmanually install dependencies using either !pip or !apt.\n\nTo view examples of installing some common dependencies, click the\n\"Open Examples\" button below.\n\u001b[0;31m---------------------------------------------------------------------------\u001b[0m\n"
          ],
          "errorDetails": {
            "actions": [
              {
                "action": "open_url",
                "actionText": "Open Examples",
                "url": "/notebooks/snippets/importing_libraries.ipynb"
              }
            ]
          }
        }
      ]
    },
    {
      "cell_type": "markdown",
      "source": [
        "###Q4. In Python 3.X, what are the key differences between text-mode and binary-mode files?"
      ],
      "metadata": {
        "id": "n_xVyu0Bw2sp"
      }
    },
    {
      "cell_type": "markdown",
      "source": [
        "###Ans.\n",
        "The major difference between these two is that a text file contains textual information in the form of alphabets, digits and special characters or symbols. On the other hand, a binary file contains bytes or a compiled version of a text file.\n",
        "\n",
        "When a file is opened in text mode, reading its data automatically decodes its content (as per the platform default or as per provided encoding), and returns it as a str; writing operation takes a str, and automatically encodes it before transferring to the file. Text mode files also support universal end-of-line translation, and encoding specification arguments.\n",
        "\n",
        "When a file is opened in binary mode by adding a b to the mode string argument in the open() call, reading its data does not decode it in any way, and simply returns its content raw and unchanged, as a bytes object; writing takes a bytes object and transfers it to the file unchanged. Binary-mode files also accept a bytearray object for the content to be written to the file."
      ],
      "metadata": {
        "id": "bQfk2Fvsw5yB"
      }
    },
    {
      "cell_type": "markdown",
      "source": [
        "\n",
        "\n",
        "---\n",
        "\n"
      ],
      "metadata": {
        "id": "m6yzBCXVxOKq"
      }
    },
    {
      "cell_type": "markdown",
      "source": [
        "###Q5. How can you interpret a Unicode text file containing text encoded in a different encoding than your platform&#39;s default?"
      ],
      "metadata": {
        "id": "VinOSalExO2h"
      }
    },
    {
      "cell_type": "markdown",
      "source": [
        "###Ans.\n",
        "Use of encode() and decode() method can be used to you interpret a Unicode text file containing text encoded in a different encoding than your platform's default, by default encoding parameter is UTF-8"
      ],
      "metadata": {
        "id": "mJg0WbBZxTkx"
      }
    },
    {
      "cell_type": "markdown",
      "source": [
        "\n",
        "\n",
        "---\n",
        "\n"
      ],
      "metadata": {
        "id": "6lDhLvYYwKoL"
      }
    },
    {
      "cell_type": "markdown",
      "source": [
        "###Q6. What is the best way to make a Unicode text file in a particular encoding format?"
      ],
      "metadata": {
        "id": "1Lsl2zOvxbiJ"
      }
    },
    {
      "cell_type": "markdown",
      "source": [
        "###Ans.\n",
        "Use str.encode() and file.write() to make a Unicode text file in a particular encoding format, default encoding format is UTF-18.\n",
        "\n",
        "Call str.encode(encoding) with encoding set to utf8 to encode str.\n",
        "\n",
        "Call open(file, mode) to open a file with mode set to wb . wb writes to files in binary mode & preserves UTF-8format.\n",
        "\n",
        "Call file.write(data) to write data to the file."
      ],
      "metadata": {
        "id": "8CZl0CYoxfPi"
      }
    },
    {
      "cell_type": "code",
      "source": [
        "unicode_text = u\"улыбаться Владимир Путин\"\n",
        "encoded_unicode_text = unicode_text.encode(\"utf-8\")\n",
        "print(encoded_unicode_text,end=\"\\n\\n\")\n",
        "\n",
        "w_file = open(\"w_file.txt\",\"wb\")\n",
        "w_file.write(encoded_unicode_text)\n",
        "w_file.close()\n",
        "\n",
        "r_file = open(\"w_file.txt\",\"rb\")\n",
        "data = r_file.read()\n",
        "print(data)"
      ],
      "metadata": {
        "colab": {
          "base_uri": "https://localhost:8080/"
        },
        "id": "4Q0UOmLgxmUR",
        "outputId": "a4934df4-5aa2-42d8-c3d6-da0e12c2e9d9"
      },
      "execution_count": null,
      "outputs": [
        {
          "output_type": "stream",
          "name": "stdout",
          "text": [
            "b'\\xd1\\x83\\xd0\\xbb\\xd1\\x8b\\xd0\\xb1\\xd0\\xb0\\xd1\\x82\\xd1\\x8c\\xd1\\x81\\xd1\\x8f \\xd0\\x92\\xd0\\xbb\\xd0\\xb0\\xd0\\xb4\\xd0\\xb8\\xd0\\xbc\\xd0\\xb8\\xd1\\x80 \\xd0\\x9f\\xd1\\x83\\xd1\\x82\\xd0\\xb8\\xd0\\xbd'\n",
            "\n",
            "b'\\xd1\\x83\\xd0\\xbb\\xd1\\x8b\\xd0\\xb1\\xd0\\xb0\\xd1\\x82\\xd1\\x8c\\xd1\\x81\\xd1\\x8f \\xd0\\x92\\xd0\\xbb\\xd0\\xb0\\xd0\\xb4\\xd0\\xb8\\xd0\\xbc\\xd0\\xb8\\xd1\\x80 \\xd0\\x9f\\xd1\\x83\\xd1\\x82\\xd0\\xb8\\xd0\\xbd'\n"
          ]
        }
      ]
    },
    {
      "cell_type": "markdown",
      "source": [
        "\n",
        "\n",
        "---\n",
        "\n"
      ],
      "metadata": {
        "id": "GZ-pSa9IxlYZ"
      }
    },
    {
      "cell_type": "markdown",
      "source": [
        "###Q7. What qualifies ASCII text as a form of Unicode text?"
      ],
      "metadata": {
        "id": "z-78A0sBxth5"
      }
    },
    {
      "cell_type": "markdown",
      "source": [
        "###Ans.\n",
        "Unicode represents most written languages in the world. ASCII has its equivalent in Unicode. The difference between ASCII and Unicode is that ASCII represents lowercase letters (a-z), uppercase letters (A-Z), digits (0–9) and symbols such as punctuation marks while Unicode represents letters of English, Arabic, Greek etc. mathematical symbols, historical scripts, emoji covering a wide range of characters than ASCII."
      ],
      "metadata": {
        "id": "sBKrxfUSx0TQ"
      }
    },
    {
      "cell_type": "markdown",
      "source": [
        "\n",
        "\n",
        "---\n",
        "\n"
      ],
      "metadata": {
        "id": "FeMeaCT8x-JY"
      }
    },
    {
      "cell_type": "markdown",
      "source": [
        "###Q8. How much of an effect does the change in string types in Python 3.X have on your code?"
      ],
      "metadata": {
        "id": "HauYPJ7Ex-1x"
      }
    },
    {
      "cell_type": "markdown",
      "source": [
        "###Ans.\n",
        "Python 3 stores strings as Unicode by default whereas Python 2 requires you to mark a string with a u if we want to store it as Unicode. Unicode strings are more versatile than ASCII strings, which are the Python 3.X default, as they can store letters from foreign languages as well as emoji and the standard Roman letters and numerals."
      ],
      "metadata": {
        "id": "-fFgccAHyC5u"
      }
    },
    {
      "cell_type": "markdown",
      "source": [
        "------------------------------------------------------------------------------End---------------------------------------------------------------------"
      ],
      "metadata": {
        "id": "ZQ0bPMFTyJs1"
      }
    }
  ]
}