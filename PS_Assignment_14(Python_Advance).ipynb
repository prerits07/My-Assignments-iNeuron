{
  "nbformat": 4,
  "nbformat_minor": 0,
  "metadata": {
    "colab": {
      "provenance": []
    },
    "kernelspec": {
      "name": "python3",
      "display_name": "Python 3"
    },
    "language_info": {
      "name": "python"
    }
  },
  "cells": [
    {
      "cell_type": "markdown",
      "source": [
        "### Python (Advance) Assignment No. 14\n",
        "\n",
        "1 Batch - Full Stack Data Science Bootcamp 2.0\n",
        "\n",
        "2 Name - **Prerit Sharma**\n",
        "\n",
        "3 Email ID - **praritsharma7@gmail.com**"
      ],
      "metadata": {
        "id": "pP-qSIVP_y4y"
      }
    },
    {
      "cell_type": "markdown",
      "source": [
        "\n",
        "\n",
        "---\n",
        "\n"
      ],
      "metadata": {
        "id": "J5PDypQh_0My"
      }
    },
    {
      "cell_type": "markdown",
      "source": [
        "###Q1. Is an assignment operator like += only for show? Is it possible that it would lead to faster resultsat the runtime?"
      ],
      "metadata": {
        "id": "LWR3ULVP_0rx"
      }
    },
    {
      "cell_type": "markdown",
      "source": [
        "###Ans.A=A+1 evaluates to finding A, adding 1 to it. Then storing the value again in variable A. This expression makes Python to look for memory holder of 'a' twice. But A+=1 simply means value of A is to incremented by 1. As memory address has to be identified once, += leads to faster operation."
      ],
      "metadata": {
        "id": "FYk9vDPf_7XV"
      }
    },
    {
      "cell_type": "markdown",
      "source": [
        "\n",
        "\n",
        "---\n",
        "\n"
      ],
      "metadata": {
        "id": "thCB4lIRACWF"
      }
    },
    {
      "cell_type": "markdown",
      "source": [
        "###Q2. What is the smallest number of statements you&#39;d have to write in most programming languages to replace the Python expression a, b = a + b, a?"
      ],
      "metadata": {
        "id": "JPB3P5g7AEWJ"
      }
    },
    {
      "cell_type": "markdown",
      "source": [
        "###Ans.Minimum number of lines required to write above code in languages other Python will be 4, two for assigning initial values for variables a and b, and two for reassignment i.e. a=a+b and b=a."
      ],
      "metadata": {
        "id": "MYzrcc78AI24"
      }
    },
    {
      "cell_type": "markdown",
      "source": [
        "\n",
        "\n",
        "---\n",
        "\n"
      ],
      "metadata": {
        "id": "rleonVqkAMS4"
      }
    },
    {
      "cell_type": "markdown",
      "source": [
        "###Q3. In Python, what is the most effective way to set a list of 100 integers to 0?\n",
        "\n"
      ],
      "metadata": {
        "id": "6wOMNza-AOGg"
      }
    },
    {
      "cell_type": "markdown",
      "source": [
        "\n",
        "###Ans.The Most effective way to set a list of 100 integers to 0 in python is by using repition operator(*) or by using list comprehension."
      ],
      "metadata": {
        "id": "I9HeeuUTAONA"
      }
    },
    {
      "cell_type": "code",
      "source": [
        "# Method 1\n",
        "list_zero=[0]*100\n",
        "print(list_zero)\n",
        "# Method 2\n",
        "zero_list = [0 for x in range(100)]\n",
        "print(zero_list)"
      ],
      "metadata": {
        "colab": {
          "base_uri": "https://localhost:8080/"
        },
        "id": "tF4v9E3DAbeD",
        "outputId": "eba5ce03-07fe-4fce-9fcf-c1e3af2f11a7"
      },
      "execution_count": 1,
      "outputs": [
        {
          "output_type": "stream",
          "name": "stdout",
          "text": [
            "[0, 0, 0, 0, 0, 0, 0, 0, 0, 0, 0, 0, 0, 0, 0, 0, 0, 0, 0, 0, 0, 0, 0, 0, 0, 0, 0, 0, 0, 0, 0, 0, 0, 0, 0, 0, 0, 0, 0, 0, 0, 0, 0, 0, 0, 0, 0, 0, 0, 0, 0, 0, 0, 0, 0, 0, 0, 0, 0, 0, 0, 0, 0, 0, 0, 0, 0, 0, 0, 0, 0, 0, 0, 0, 0, 0, 0, 0, 0, 0, 0, 0, 0, 0, 0, 0, 0, 0, 0, 0, 0, 0, 0, 0, 0, 0, 0, 0, 0, 0]\n",
            "[0, 0, 0, 0, 0, 0, 0, 0, 0, 0, 0, 0, 0, 0, 0, 0, 0, 0, 0, 0, 0, 0, 0, 0, 0, 0, 0, 0, 0, 0, 0, 0, 0, 0, 0, 0, 0, 0, 0, 0, 0, 0, 0, 0, 0, 0, 0, 0, 0, 0, 0, 0, 0, 0, 0, 0, 0, 0, 0, 0, 0, 0, 0, 0, 0, 0, 0, 0, 0, 0, 0, 0, 0, 0, 0, 0, 0, 0, 0, 0, 0, 0, 0, 0, 0, 0, 0, 0, 0, 0, 0, 0, 0, 0, 0, 0, 0, 0, 0, 0]\n"
          ]
        }
      ]
    },
    {
      "cell_type": "markdown",
      "source": [
        "\n",
        "\n",
        "---\n",
        "\n"
      ],
      "metadata": {
        "id": "QUz0E3RGAUqU"
      }
    },
    {
      "cell_type": "markdown",
      "source": [
        "###Q4. What is the most effective way to initialise a list of 99 integers that repeats the sequence 1, 2, 3?S If necessary, show step-by-step instructions on how to accomplish this."
      ],
      "metadata": {
        "id": "lI_yu3eMAiya"
      }
    },
    {
      "cell_type": "markdown",
      "source": [
        "###Ans."
      ],
      "metadata": {
        "id": "6ER6cHnFAo1Y"
      }
    },
    {
      "cell_type": "code",
      "source": [
        "my_list = [1,2,3]*33\n",
        "print(my_list)"
      ],
      "metadata": {
        "colab": {
          "base_uri": "https://localhost:8080/"
        },
        "id": "t3M26O0IAr3w",
        "outputId": "900d5ee0-9087-4b13-e289-726e53cc46a4"
      },
      "execution_count": 2,
      "outputs": [
        {
          "output_type": "stream",
          "name": "stdout",
          "text": [
            "[1, 2, 3, 1, 2, 3, 1, 2, 3, 1, 2, 3, 1, 2, 3, 1, 2, 3, 1, 2, 3, 1, 2, 3, 1, 2, 3, 1, 2, 3, 1, 2, 3, 1, 2, 3, 1, 2, 3, 1, 2, 3, 1, 2, 3, 1, 2, 3, 1, 2, 3, 1, 2, 3, 1, 2, 3, 1, 2, 3, 1, 2, 3, 1, 2, 3, 1, 2, 3, 1, 2, 3, 1, 2, 3, 1, 2, 3, 1, 2, 3, 1, 2, 3, 1, 2, 3, 1, 2, 3, 1, 2, 3, 1, 2, 3, 1, 2, 3]\n"
          ]
        }
      ]
    },
    {
      "cell_type": "markdown",
      "source": [
        "\n",
        "\n",
        "---\n",
        "\n"
      ],
      "metadata": {
        "id": "ZK7bFuSPAsu_"
      }
    },
    {
      "cell_type": "markdown",
      "source": [
        "###Q5. If you&#39;re using IDLE to run a Python application, explain how to print a multidimensional list as efficiently?"
      ],
      "metadata": {
        "id": "PWl6hMTQAt0n"
      }
    },
    {
      "cell_type": "markdown",
      "source": [
        "###Ans."
      ],
      "metadata": {
        "id": "akDZByHNAyVt"
      }
    },
    {
      "cell_type": "code",
      "source": [
        "my_list = [[1,1],[2,2],[3,3],[4,4],[5,5]] # 2 dimensional List\n",
        "for x in range(len(my_list)):\n",
        "    for y in range(len(my_list[x])):\n",
        "        print(my_list[x][y],end=\" \")"
      ],
      "metadata": {
        "colab": {
          "base_uri": "https://localhost:8080/"
        },
        "id": "Pn65lSvLA3Nz",
        "outputId": "60501eeb-0337-4b73-d2c6-d5344eea3505"
      },
      "execution_count": 4,
      "outputs": [
        {
          "output_type": "stream",
          "name": "stdout",
          "text": [
            "1 1 2 2 3 3 4 4 5 5 "
          ]
        }
      ]
    },
    {
      "cell_type": "markdown",
      "source": [
        "\n",
        "\n",
        "---\n",
        "\n"
      ],
      "metadata": {
        "id": "YVgonEwlA6Q6"
      }
    },
    {
      "cell_type": "markdown",
      "source": [
        "###Q6. Is it possible to use list comprehension with a string? If so, how can you go about doing it?"
      ],
      "metadata": {
        "id": "2JhGZW2bA6yT"
      }
    },
    {
      "cell_type": "markdown",
      "source": [
        "###Ans.List comprehension with string is possible."
      ],
      "metadata": {
        "id": "83Xny9i7A927"
      }
    },
    {
      "cell_type": "code",
      "source": [
        "my_list = [ele for ele in 'iNeuron']\n",
        "print(my_list)"
      ],
      "metadata": {
        "colab": {
          "base_uri": "https://localhost:8080/"
        },
        "id": "JsPbus3aBFA-",
        "outputId": "21d0bc9b-087d-4aad-d742-06e1c7a0446b"
      },
      "execution_count": 5,
      "outputs": [
        {
          "output_type": "stream",
          "name": "stdout",
          "text": [
            "['i', 'N', 'e', 'u', 'r', 'o', 'n']\n"
          ]
        }
      ]
    },
    {
      "cell_type": "markdown",
      "source": [
        "\n",
        "\n",
        "---\n",
        "\n"
      ],
      "metadata": {
        "id": "8NGAthOTA98m"
      }
    },
    {
      "cell_type": "markdown",
      "source": [
        "###Q7. From the command line, how do you get support with a user-written Python programme? Is this possible from inside IDLE?"
      ],
      "metadata": {
        "id": "F3xrpygPBIQG"
      }
    },
    {
      "cell_type": "markdown",
      "source": [
        "###Ans. Get support with a user-written Python Programme: Start a command prompt (Windows) or terminal window (Linux/Mac). If the current working directory is the same as the location in which you saved the file, you can simply specify the filename as a command-line argument to the Python interpreter.\n",
        "\n",
        "#### Get support with a User-written Python Program from IDLE: You can also create script files and run them in IDLE. From the Shell window menu, select File → New File. That should open an additional editing window. Type in the code to be executed. From the menu in that window, select File → Save or File → Save As… and save the file to disk. Then select Run → Run Module. The output should appear back in the interpreter"
      ],
      "metadata": {
        "id": "3t5P8qj6BMv-"
      }
    },
    {
      "cell_type": "markdown",
      "source": [
        "\n",
        "\n",
        "---\n",
        "\n"
      ],
      "metadata": {
        "id": "lEaFQAEtBUl6"
      }
    },
    {
      "cell_type": "markdown",
      "source": [
        "###Q8. Functions are said to be “first-class objects” in Python but not in most other languages, such asC++ or Java. What can you do in Python with a function (callable object) that you can&#39;t do in C or C++?"
      ],
      "metadata": {
        "id": "RuGiO2jgBVNz"
      }
    },
    {
      "cell_type": "markdown",
      "source": [
        "###Ans. The tasks which can be performed with the functions in python are:\n",
        "\n",
        "1.A function is an instance of the Object type.\n",
        "\n",
        "2.You can store the function in a variable.\n",
        "\n",
        "3.You can pass the function as a parameter to another function.\n",
        "\n",
        "4.You can return the function from a function.\n",
        "\n",
        "5.You can store them in data structures such as hash tables, lists."
      ],
      "metadata": {
        "id": "3D1xKOFbBas6"
      }
    },
    {
      "cell_type": "markdown",
      "source": [
        "\n",
        "\n",
        "---\n",
        "\n"
      ],
      "metadata": {
        "id": "yu_3kvDNBgh3"
      }
    },
    {
      "cell_type": "markdown",
      "source": [
        "###Q9. How do you distinguish between a wrapper, a wrapped feature, and a decorator?"
      ],
      "metadata": {
        "id": "xQhOqMtaBlvI"
      }
    },
    {
      "cell_type": "markdown",
      "source": [
        "###Ans. Wrappers Around the functions are known as Decrators."
      ],
      "metadata": {
        "id": "NVXcVbj1Btxs"
      }
    },
    {
      "cell_type": "markdown",
      "source": [
        "\n",
        "\n",
        "---\n",
        "\n"
      ],
      "metadata": {
        "id": "gtf4U_KmBxMs"
      }
    },
    {
      "cell_type": "markdown",
      "source": [
        "###Q10. If a function is a generator function, what does it return?"
      ],
      "metadata": {
        "id": "WvSw38AqBzYb"
      }
    },
    {
      "cell_type": "markdown",
      "source": [
        "###Ans. Generator functions are a special kind of function that return a lazy iterator. These are objects that you can loop over like a list. However, unlike lists, lazy iterators do not store their contents in memory."
      ],
      "metadata": {
        "id": "yu3JIhSrBxu0"
      }
    },
    {
      "cell_type": "markdown",
      "source": [
        "\n",
        "\n",
        "---\n",
        "\n"
      ],
      "metadata": {
        "id": "DRsAZveKB5BI"
      }
    },
    {
      "cell_type": "markdown",
      "source": [
        "###Q11. What is the one improvement that must be made to a function in order for it to become a generator function in the Python language?"
      ],
      "metadata": {
        "id": "NrjIjNlLB6VZ"
      }
    },
    {
      "cell_type": "markdown",
      "source": [
        "###Ans. Generator is a written as normal function but uses yield keyword to return values instead of return keyword."
      ],
      "metadata": {
        "id": "NBqv3UhfB-1p"
      }
    },
    {
      "cell_type": "markdown",
      "source": [
        "\n",
        "\n",
        "---\n",
        "\n"
      ],
      "metadata": {
        "id": "pAKjfWepCDMI"
      }
    },
    {
      "cell_type": "markdown",
      "source": [
        "###Q12. Identify at least one benefit of generators."
      ],
      "metadata": {
        "id": "tKqlchwhCDyC"
      }
    },
    {
      "cell_type": "markdown",
      "source": [
        "###Ans. return statement sends a specified value back to its caller whereas yield statment can produce a sequence of values. We should use generator when we want to iterate over a sequence, but don’t want to store the entire sequence in memory."
      ],
      "metadata": {
        "id": "IXAX4VlPCGRw"
      }
    },
    {
      "cell_type": "markdown",
      "source": [
        "---------------------------------------------------------------------------------------------------------------------End---------------------------------------------------------------------------------------------------------------"
      ],
      "metadata": {
        "id": "U_xhSpqcCKyN"
      }
    }
  ]
}