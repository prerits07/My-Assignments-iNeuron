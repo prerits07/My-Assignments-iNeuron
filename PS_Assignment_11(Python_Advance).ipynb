{
  "nbformat": 4,
  "nbformat_minor": 0,
  "metadata": {
    "colab": {
      "provenance": []
    },
    "kernelspec": {
      "name": "python3",
      "display_name": "Python 3"
    },
    "language_info": {
      "name": "python"
    }
  },
  "cells": [
    {
      "cell_type": "markdown",
      "source": [
        "### Python (Advance) Assignment No. 11\n",
        "\n",
        "1 Batch - Full Stack Data Science Bootcamp 2.0\n",
        "\n",
        "2 Name - **Prerit Sharma**\n",
        "\n",
        "3 Email ID - **praritsharma7@gmail.com**"
      ],
      "metadata": {
        "id": "CosQZ52Ao7hw"
      }
    },
    {
      "cell_type": "markdown",
      "source": [
        "\n",
        "\n",
        "---\n",
        "\n"
      ],
      "metadata": {
        "id": "nF0WJULipBsF"
      }
    },
    {
      "cell_type": "markdown",
      "source": [
        "###Q1. What is the concept of a metaclass?"
      ],
      "metadata": {
        "id": "IPvqFAjlpCMe"
      }
    },
    {
      "cell_type": "markdown",
      "source": [
        "###Ans.Metaclass in Python is a class of a class that defines how a class behaves. A class is itself a instance of Metaclass, and any Instance of Class in Python is an Instance of type metaclass. E.g. Type of of int, str, float, list, tuple and many more is of metaclass type."
      ],
      "metadata": {
        "id": "5RsOJbCnpGiN"
      }
    },
    {
      "cell_type": "code",
      "source": [
        "# our metaclass\n",
        "class MultiBases(type):\n",
        "\t# overriding __new__ method\n",
        "\tdef __new__(cls, clsname, bases, clsdict):\n",
        "\t\t# if no of base classes is greater than 1\n",
        "\t\t# raise error\n",
        "\t\tif len(bases)>1:\n",
        "\t\t  raise TypeError(\"Inherited multiple base classes!!!\")\n",
        "\n",
        "\t\t# else execute __new__ method of super class, ie.\n",
        "\t\t# call __init__ of type class\n",
        "\t\treturn super().__new__(cls, clsname, bases, clsdict)\n",
        "\n",
        "# metaclass can be specified by 'metaclass' keyword argument\n",
        "# now MultiBase class is used for creating classes\n",
        "# this will be propagated to all subclasses of Base\n",
        "class Base(metaclass=MultiBases):\n",
        "\tpass\n",
        "\n",
        "# no error is raised\n",
        "class A(Base):\n",
        "\tpass\n",
        "\n",
        "# no error is raised\n",
        "class B(Base):\n",
        "\tpass\n",
        "\n",
        "# This will raise an error!\n",
        "class C(A, B):\n",
        "\tpass"
      ],
      "metadata": {
        "id": "uCemZUItpQ_E"
      },
      "execution_count": null,
      "outputs": []
    },
    {
      "cell_type": "markdown",
      "source": [
        "\n",
        "\n",
        "---\n",
        "\n"
      ],
      "metadata": {
        "id": "yY1xzirppcAk"
      }
    },
    {
      "cell_type": "markdown",
      "source": [
        "###Q2. What is the best way to declare a class&#39;s metaclass?"
      ],
      "metadata": {
        "id": "xfPp8SuSpcs7"
      }
    },
    {
      "cell_type": "markdown",
      "source": [
        "###Ans. A way to declare a class metaclass is by using metaclass keyword in class definition.\n"
      ],
      "metadata": {
        "id": "fTnKWgQ8pgo1"
      }
    },
    {
      "cell_type": "code",
      "source": [
        "class meta(type):\n",
        "    pass\n",
        "class class_meta(metaclass=meta):\n",
        "    pass\n",
        "print(type(meta))\n",
        "print(type(class_meta))"
      ],
      "metadata": {
        "colab": {
          "base_uri": "https://localhost:8080/"
        },
        "id": "Cxr2itqZpz3r",
        "outputId": "e7b91fd2-00fb-4d37-cbb3-aedc9591a388"
      },
      "execution_count": 3,
      "outputs": [
        {
          "output_type": "stream",
          "name": "stdout",
          "text": [
            "<class 'type'>\n",
            "<class '__main__.meta'>\n"
          ]
        }
      ]
    },
    {
      "cell_type": "markdown",
      "source": [
        "\n",
        "\n",
        "---\n",
        "\n"
      ],
      "metadata": {
        "id": "geJCjk2Yp5Di"
      }
    },
    {
      "cell_type": "markdown",
      "source": [
        "###Q3. How do class decorators overlap with metaclasses for handling classes?"
      ],
      "metadata": {
        "id": "ZfuofgYKp5nK"
      }
    },
    {
      "cell_type": "markdown",
      "source": [
        "###Ans. Anything you can do with a class decorator, you can of course do with a custom metaclasses (just apply the functionality of the \"decorator function\", i.e., the one that takes a class object and modifies it, in the course of the metaclass's new or init that make the class object!)."
      ],
      "metadata": {
        "id": "G6jtc3Zfp9uL"
      }
    },
    {
      "cell_type": "markdown",
      "source": [
        "\n",
        "\n",
        "---\n",
        "\n"
      ],
      "metadata": {
        "id": "I-eTA2h2qGTr"
      }
    },
    {
      "cell_type": "markdown",
      "source": [
        "###Q4. How do class decorators overlap with metaclasses for handling instances?"
      ],
      "metadata": {
        "id": "rHgAA1O7qIFq"
      }
    },
    {
      "cell_type": "markdown",
      "source": [
        "###Ans. Anything you can do with a class decorator, you can of course do with a custom metaclass (just apply the functionality of the \"decorator function\", i.e., the one that takes a class object and modifies it, in the course of the metaclass's new or init that make the class object!)."
      ],
      "metadata": {
        "id": "jHHxCnz1qLmE"
      }
    },
    {
      "cell_type": "markdown",
      "source": [
        "------------------------------------------------------------------------------------------------------------------End---------------------------------------------------------------------------"
      ],
      "metadata": {
        "id": "aDXRXUc2qT5T"
      }
    }
  ]
}