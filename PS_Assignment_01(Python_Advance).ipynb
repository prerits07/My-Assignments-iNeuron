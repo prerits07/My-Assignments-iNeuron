{
  "nbformat": 4,
  "nbformat_minor": 0,
  "metadata": {
    "colab": {
      "provenance": []
    },
    "kernelspec": {
      "name": "python3",
      "display_name": "Python 3"
    },
    "language_info": {
      "name": "python"
    }
  },
  "cells": [
    {
      "cell_type": "markdown",
      "source": [
        "### Python (Advance) Assignment No. 01\n",
        "\n",
        "1 Batch - Full Stack Data Science Bootcamp 2.0\n",
        "\n",
        "2 Name - **Prerit Sharma**\n",
        "\n",
        "3 Email ID - **praritsharma7@gmail.com**"
      ],
      "metadata": {
        "id": "CDf7FKE0QLfu"
      }
    },
    {
      "cell_type": "markdown",
      "source": [
        "\n",
        "\n",
        "---\n",
        "\n"
      ],
      "metadata": {
        "id": "I2VXOqK91XHS"
      }
    },
    {
      "cell_type": "markdown",
      "source": [
        "###Q1. What is the purpose of Python&#39;s OOP?"
      ],
      "metadata": {
        "id": "3xUVkw2V1YUC"
      }
    },
    {
      "cell_type": "markdown",
      "source": [
        "###Ans.\n",
        "Object-oriented Programming (OOPs) is a programming paradigm that uses objects and classes in programming. It aims to implement real-world entities like inheritance, polymorphisms, encapsulation, etc. in the programming. The main concept of OOPs is to bind the data and the functions that work on that together as a single unit so that no other part of the code can access this data."
      ],
      "metadata": {
        "id": "O_IWNc9e1bG6"
      }
    },
    {
      "cell_type": "markdown",
      "source": [
        "\n",
        "\n",
        "---\n",
        "\n"
      ],
      "metadata": {
        "id": "XDCRjtItIC4x"
      }
    },
    {
      "cell_type": "markdown",
      "source": [
        "###Q2. Where does an inheritance search look for an attribute?"
      ],
      "metadata": {
        "id": "3RAtUvrUIDiT"
      }
    },
    {
      "cell_type": "markdown",
      "source": [
        "###Ans.\n",
        "Python searches for an attribute in an upward tree of attributes. Tt first searches for the attribute in its instance and then looks in the class it is generated from, to all super classes listed in its class header."
      ],
      "metadata": {
        "id": "egsRGpz3IGzf"
      }
    },
    {
      "cell_type": "markdown",
      "source": [
        "\n",
        "\n",
        "---\n",
        "\n"
      ],
      "metadata": {
        "id": "k35L1U_NIOYf"
      }
    },
    {
      "cell_type": "markdown",
      "source": [
        "###Q3. How do you distinguish between a class object and an instance object?"
      ],
      "metadata": {
        "id": "M0VrxTveIReY"
      }
    },
    {
      "cell_type": "markdown",
      "source": [
        "###Ans.\n",
        "The differences between a class object and an instance object are:\n",
        "\n",
        "1.Class is a template for creating objects whereas object is an instance of class\n",
        "\n",
        "2.Seperate memory is allocated for each object whenever an object is created. but for a class this doesnot happens.\n",
        "\n",
        "3.A Class is created once. Many objects are created using a class.\n",
        "\n",
        "4.As Classes have no allocated memory. they can't be manipulated. but objects can be manipulated."
      ],
      "metadata": {
        "id": "0MXaKoWYISsg"
      }
    },
    {
      "cell_type": "markdown",
      "source": [
        "\n",
        "\n",
        "---\n",
        "\n"
      ],
      "metadata": {
        "id": "yAaDGRDHIbF3"
      }
    },
    {
      "cell_type": "markdown",
      "source": [
        "###Q4. What makes the first argument in a class’s method function special?"
      ],
      "metadata": {
        "id": "xh25OLdZIbrn"
      }
    },
    {
      "cell_type": "markdown",
      "source": [
        "###Ans.\n",
        "Python Classes usually have three types of methods which are:\n",
        "\n",
        "1.Instance Methods (object level methods)\n",
        "\n",
        "2.Class Methods (class level methods)\n",
        "\n",
        "3.Static Methods (general utility methods)\n",
        "\n",
        "4.self is the first argument for instance methods. which refers to the object itself\n",
        "\n",
        "5.cls is the first argument for class methods which refers to the class itself"
      ],
      "metadata": {
        "id": "pVTGR4jVIfL_"
      }
    },
    {
      "cell_type": "markdown",
      "source": [
        "\n",
        "\n",
        "---\n",
        "\n"
      ],
      "metadata": {
        "id": "yZyHedgfIwtg"
      }
    },
    {
      "cell_type": "markdown",
      "source": [
        "###Q5. What is the purpose of the __init__ method?"
      ],
      "metadata": {
        "id": "ikfZA4JOIy-v"
      }
    },
    {
      "cell_type": "markdown",
      "source": [
        "###Ans.\n",
        "__init__ is a reseved method in python classes. It serves the role of a constructor in object oriented terminology. This method is called when an object is created from a class and it allows the class to initialize the attributes of the class."
      ],
      "metadata": {
        "id": "U0EnRwabI16_"
      }
    },
    {
      "cell_type": "markdown",
      "source": [
        "\n",
        "\n",
        "---\n",
        "\n"
      ],
      "metadata": {
        "id": "eoJn02mRJA3P"
      }
    },
    {
      "cell_type": "markdown",
      "source": [
        "###Q6. What is the process for creating a class instance?"
      ],
      "metadata": {
        "id": "UyKtMoZjJBlR"
      }
    },
    {
      "cell_type": "markdown",
      "source": [
        "###Ans.\n",
        "To create a class instance, we need to call the class by its name and pass the arguments to the class, which its init method accepts.\n",
        "\n",
        "Example: my_name = my_class(\"Prerit\",\"Sharma\") Here my_name is an instance of class my_class with attributes \"Prerit\" and \"Sharma\"."
      ],
      "metadata": {
        "id": "G7jdLI5YJFb3"
      }
    },
    {
      "cell_type": "markdown",
      "source": [
        "\n",
        "\n",
        "---\n",
        "\n"
      ],
      "metadata": {
        "id": "91OX1DdnJU2H"
      }
    },
    {
      "cell_type": "markdown",
      "source": [
        "###Q7. What is the process for creating a class?"
      ],
      "metadata": {
        "id": "xiAFAbGtJVYX"
      }
    },
    {
      "cell_type": "markdown",
      "source": [
        "###Ans.\n",
        "class keyword is used to created a class in python. The syntax to create a class in python is class :\n",
        "\n",
        "Example: class Shape: ➞ this creates a class called Shape"
      ],
      "metadata": {
        "id": "HYuxu-h8JauX"
      }
    },
    {
      "cell_type": "markdown",
      "source": [
        "\n",
        "\n",
        "---\n",
        "\n"
      ],
      "metadata": {
        "id": "T0gYkBR2Jgh_"
      }
    },
    {
      "cell_type": "markdown",
      "source": [
        "###Q8. How would you define the superclasses of a class?"
      ],
      "metadata": {
        "id": "Bw_wQ6QPJibH"
      }
    },
    {
      "cell_type": "markdown",
      "source": [
        "###Ans.\n",
        "Superclass/Parent class is given as a arugment to the child class\n",
        "\n",
        "Example: class Employee(Person): Here child class Employee inherits attributes and methods/functions from Superclass/Parent Person"
      ],
      "metadata": {
        "id": "JhLtuwRsJk-e"
      }
    },
    {
      "cell_type": "markdown",
      "source": [
        "---------------------------------------------------------------------------------------End---------------------------------------------------------------------"
      ],
      "metadata": {
        "id": "zUzOvQV_Jsd3"
      }
    }
  ]
}